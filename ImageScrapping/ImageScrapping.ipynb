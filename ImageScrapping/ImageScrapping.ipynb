{
 "cells": [
  {
   "cell_type": "code",
   "execution_count": 1,
   "metadata": {},
   "outputs": [],
   "source": [
    "import bs4\n",
    "import requests"
   ]
  },
  {
   "cell_type": "code",
   "execution_count": 2,
   "metadata": {},
   "outputs": [],
   "source": [
    "url = \"https://www.passiton.com/inspirational-quotes?page=3\""
   ]
  },
  {
   "cell_type": "code",
   "execution_count": 3,
   "metadata": {},
   "outputs": [],
   "source": [
    "r = requests.get(url)"
   ]
  },
  {
   "cell_type": "markdown",
   "metadata": {},
   "source": [
    "we get the whole page content as response."
   ]
  },
  {
   "cell_type": "code",
   "execution_count": 4,
   "metadata": {},
   "outputs": [
    {
     "name": "stdout",
     "output_type": "stream",
     "text": [
      "b'<!DOCTYPE html>\\n<html class=\"no-js\" dir=\"ltr\" lang=\"en-US\">\\n    <head>\\n        <title>Inspirational Quotes - Motivational Quotes - Leadership Quotes | Page 3 | PassItOn.com</title>\\n        <meta charset=\"utf-8\">\\n        <meta http-equiv=\"content-type\" content=\"text/html; charset=utf-8\" />\\n        <meta http-equiv=\"X-UA-Compatible\" content=\"IE=edge\" />\\n        <meta name=\"viewport\" content=\"width=device-width,initial-scale=1.0,maximum-scale=1\" />\\n        <meta name=\"description\" content=\"The Foundation for a Better Life | Pass It On.com\">\\n        <link rel=\"apple-touch-icon\" sizes=\"180x180\" href=\"/apple-touch-icon.png\">\\n        <link rel=\"icon\" type=\"image/png\" sizes=\"32x32\" href=\"/favicon-32x32.png\">\\n        <link rel=\"icon\" type=\"image/png\" sizes=\"16x16\" href=\"/favicon-16x16.png\">\\n        <link rel=\"manifest\" href=\"/site.webmanifest\">\\n        <link rel=\"mask-icon\" href=\"/safari-pinned-tab.svg\" color=\"#c8102e\">\\n        <meta name=\"msapplication-TileColor\" content=\"#c8102e\">\\n        <meta name=\"theme-color\" content=\"#ffffff\">\\n        <link rel=\"stylesheet\" href=\"https://stackpath.bootstrapcdn.com/bootstrap/4.3.1/css/bootstrap.min.css\" integrity=\"sha384-ggOyR0iXCbMQv3Xipma34MD+dH/1fQ784/j6cY/iJTQUOhcWr7x9JvoRxT2MZw1T\" crossorigin=\"anonymous\">\\n        <link rel=\"stylesheet\" media=\"all\" href=\"/assets/application-a6ca07ae6273ea6a53035ee258f9dd78.css\" />\\n        <meta name=\"csrf-param\" content=\"authenticity_token\" />\\n<meta name=\"csrf-token\" content=\"73Fpnqfll3zI8QW5Jy9FX5Aq7EnmrZ2Zsyk7oHJ3wGpllbSofMKqhsEcxWqlIzcbu5sXTu/pgNfYmORZvx054Q==\" />\\n        <!-- Global site tag (gtag.js) - Google Analytics -->\\n        <script async src=\"https://www.googletagmanager.com/gtag/js?id=UA-1179606-29\"></script>\\n        <script>\\n          window.dataLayer = window.dataLayer || [];\\n          function gtag(){dataLayer.push(arguments);}\\n          gtag(\\'js\\', new Date());\\n          gtag(\\'config\\', \\'UA-1179606-29\\');\\n        </script>\\n\\n        <script>\\n          window.fbAsyncInit = function() {\\n            FB.init({\\n              appId            : \\'483774921971842\\',\\n              autoLogAppEvents : true,\\n              xfbml            : true,\\n              version          : \\'v6.0\\'\\n            });\\n          };\\n        </script>\\n        <script async defer src=\"https://connect.facebook.net/en_US/sdk.js\"></script>\\n\\n        <meta property=\"og:site_name\" content=\"passiton.com\">\\n        <meta property=\"og:title\" content=\"Inspirational Quotes - Motivational Quotes - Leadership Quotes | Page 3\" />\\n        <meta property=\"og:type\" content=\"website\" />\\n        <meta property=\"og:image\" content=\"https://www.passiton.com/passiton.jpg\" />\\n        <meta property=\"og:url\" content=\"https://www.passiton.com/inspirational-quotes?page=3\" />\\n        <meta property=\"og:description\" content=\"Find the perfect quotation from our hand-picked collection of inspiring quotes by hundreds of authors. | Page 3\" />\\n        <meta property=\"fb:app_id\" content=\"483774921971842\" />\\n\\n        <meta name=\"twitter:card\" content=\"summary_large_image\" />\\n        <meta name=\"twitter:site\" content=\"@passiton\" />\\n        <meta name=\"twitter:creator\" content=\"@passiton\">\\n        <meta name=\"twitter:title\" content=\"Inspirational Quotes - Motivational Quotes - Leadership Quotes | Page 3\" />\\n        <meta name=\"twitter:description\" content=\"Find the perfect quotation from our hand-picked collection of inspiring quotes by hundreds of authors. | Page 3\" />\\n        <meta name=\"twitter:image\" content=\"https://www.passiton.com/passiton.jpg\" />\\n        <meta name=\"twitter:url\" content=\"https://www.passiton.com/inspirational-quotes?page=3\" />\\n\\n        <meta itemprop=\"name\" content=\"passiton.com\">\\n        <meta itemprop=\"description\" content=\"Find the perfect quotation from our hand-picked collection of inspiring quotes by hundreds of authors. | Page 3\">\\n        <meta itemprop=\"image\" content=\"https://www.passiton.com/passiton.jpg\">\\n\\n        <link rel=\"apple-touch-icon\" sizes=\"180x180\" href=\"/apple-touch-icon.png\">\\n        <link rel=\"icon\" type=\"image/png\" sizes=\"32x32\" href=\"/favicon-32x32.png\">\\n        <link rel=\"icon\" type=\"image/png\" sizes=\"16x16\" href=\"/favicon-16x16.png\">\\n        <link rel=\"mask-icon\" href=\"/passiton_arrow.svg\" color=\"#C8102E\">\\n        <link rel=\"manifest\" href=\"/manifest.json\">\\n        <link rel=\"mask-icon\" href=\"/safari-pinned-tab.svg\" color=\"#5bbad5\">\\n        <meta name=\"apple-mobile-web-app-title\" content=\"passiton\">\\n        <meta name=\"application-name\" content=\"passiton\">\\n        <meta name=\"theme-color\" content=\"#f1f1f1\">\\n        \\n    </head>\\n    <body class=\\'no-transition quotes_index\\'>\\n        <header>\\n    <nav class=\"navbar navbar-default bootsnav navbar-fixed-top header-dark white-link background-transparent nav-box-width white-link navbar-expand-lg\">\\n        <div class=\"container-fluid nav-header-container\">\\n            <div class=\"col-auto pl-0\">\\n\\n                    <a class=\"logo\" title=\"Pass It On\\xc2\\xae\" href=\"/\"><img data-rjs=\"/assets/site/logo@2x-77b9f4fa1e4bafa6ff119f8f162b7bd9.png\" class=\"logo-dark\" alt=\"Pass It On\" src=\"/assets/site/logo-6d680decaadef58e4fbb586e147bc135.png\" /><img data-rjs=\"/assets/site/logo-white@2x-82bf2486063a48e9207811cc7f6d5e5f.png\" class=\"logo-light default\" alt=\"Pass It On\" src=\"/assets/site/logo-white-2d99f390ad2f6d3bbf59a52aadb55d60.png\" /></a>\\n\\n            </div>\\n            <div class=\"col accordion-menu pr-0 pr-md-3\">\\n                <button type=\"button\" class=\"navbar-toggler collapsed\" data-toggle=\"collapse\" data-target=\"#navbar-collapse-toggle-1\">\\n                    <span class=\"sr-only\">toggle navigation</span>\\n                    <span class=\"icon-bar\"></span>\\n                    <span class=\"icon-bar\"></span>\\n                    <span class=\"icon-bar\"></span>\\n                </button>\\n                <div class=\"navbar-collapse collapse justify-content-end\" id=\"navbar-collapse-toggle-1\">\\n                    <ul id=\"accordion\" class=\"nav navbar-nav no-margin alt-font text-normal\" data-in=\"fadeIn\" data-out=\"fadeOut\">\\n                        <li><a href=\"/inspirational-quotes\">Quotes</a></li>\\n                        <li><a href=\"/inspirational-stories-tv-spots\">Videos</a></li>\\n                        <li class=\"dropdown simple-dropdown\"><a href=\"/inspirational-sayings-billboards\">Billboards <i class=\\'fas fa-angle-down dropdown-toggle\\' data-toggle=\\'dropdown\\' aria-hidden=\\'true\\'></i></a>\\n                            <ul class=\"dropdown-menu\" role=\"menu\">\\n                                <li><a href=\"/inspirational-sayings-billboards\">Official Billboards</a>\\n                                <li><a href=\"/is-in-you\">Is In You\\xc2\\xae Billboards</a>\\n                                <li><a href=\"/your-billboards\">Create Your Own Billboard</a>\\n                            </ul>\\n                        </li>\\n                        <li><a href=\"/newspaper-stories\">Newspapers</a></li>\\n                        <li><a href=\"/radio\">Radio</a></li>\\n                        <li><a href=\"/passiton-blog\">Blog</a></li>\\n                        <li class=\"dropdown simple-dropdown\"><a href=\"#\">Language <i class=\"fas fa-angle-down dropdown-toggle\" data-toggle=\"dropdown\" aria-hidden=\"true\"></i></a>\\n                            <ul class=\"dropdown-menu\" role=\"menu\">\\n                                <li><a target=\"_blank\" href=\"https://www.pasala.org/\">Spanish | Espa\\xc3\\xb1ol</a>\\n                                <li><a target=\"_blank\" href=\"https://www.umavidamelhor.org/\">Portuguese | Portugu\\xc3\\xaas</a>\\n                                <li><a target=\"_blank\" href=\"https://www.values.cn.com/\">Chinese | \\xe4\\xb8\\xad\\xe6\\x96\\x87</a>\\n                            </ul>\\n                        </li>\\n                    </ul>\\n                </div>\\n            </div>\\n            <div class=\"col-auto pr-0\">\\n                <div class=\"header-searchbar\">\\n                    <a href=\"#search-header\" class=\"header-search-form\"><i class=\"fas fa-search search-button\"></i></a>\\n                    <form id=\"search-header\" method=\"post\" action=\"/search\" name=\"search-header\" class=\"mfp-hide search-form-result\">\\n                        <div class=\"search-form position-relative\">\\n                            <button type=\"submit\" class=\"fas fa-search close-search search-button\"></button>\\n                            <input type=\"text\" name=\"q\" class=\"search-input\" placeholder=\"Search passiton.com...\" autocomplete=\"off\">\\n                        </div>\\n                    </form>\\n                </div>\\n            </div>\\n        </div>\\n    </nav>\\n</header>\\n        \\n\\n    <section class=\"parallax padding-six-all bg-black\" data-stellar-background-ratio=\"0.2\" style=\"background-image:url(\\'/assets/backgrounds/flowers-8d19415bc3bc371f5beaed468d9a1970.jpg\\');\">\\n        <div class=\"container\">\\n            <div class=\"row justify-content-center\">\\n                <div class=\"col-12 col-lg-10 text-center\">\\n                    <div class=\"shadow bg-extra-dark-gray padding-two-all border-radius-6 width-70 lg-width-80 sm-width-100 mx-auto lg-padding-30px-all sm-padding-15px-all sm-margin-40px-top\">\\n                        <h6 class=\"font-weight-300 text-white-2 margin-20px-bottom sm-margin-15px-bottom\">Get our FREE daily quote emails!</h6>\\n                        <p class=\"text-medium width-70 mx-auto margin-40px-bottom sm-width-100 sm-margin-15px-bottom\">Get a daily inspirational quote in your inbox each weekday! Enter your email below to subscribe.</p>\\n\\n                        <form class=\"simple_form search-box3 margin-10px-bottom\" novalidate=\"novalidate\" id=\"new_user\" action=\"/users\" accept-charset=\"UTF-8\" method=\"post\"><input name=\"utf8\" type=\"hidden\" value=\"&#x2713;\" /><input type=\"hidden\" name=\"authenticity_token\" value=\"v7xSnkR4xCShE8rZ1hZiHyPo2hgKRaceM/MsBLQ6l0Y1WI+on1/53qj+CgpUGhBbCFkhHwMBulBYQvP9eVBuzQ==\" />\\n                            <div class=\"input-group add-on width-75 mx-auto sm-width-100\">\\n                                <input label=\"false\" class=\"string email optional form-control text-white\" type=\"text\" placeholder=\"you@your-email.com\" name=\"user[email]\" id=\"user_email\" />\\n                                <script src=\"https://www.recaptcha.net/recaptcha/api.js?render=6Ldta8EUAAAAACp3yt76yG8QWMdQkpDBkP1bcHi6\"   ></script>\\n        <script>\\n          // Define function so that we can call it again later if we need to reset it\\n          // This executes reCAPTCHA and then calls our callback.\\n          function executeRecaptchaForQuote() {\\n            grecaptcha.ready(function() {\\n              grecaptcha.execute(\\'6Ldta8EUAAAAACp3yt76yG8QWMdQkpDBkP1bcHi6\\', {action: \\'quote\\'}).then(function(token) {\\n                setInputWithRecaptchaResponseTokenForQuote(\\'g-recaptcha-response-data-quote\\', token)\\n              });\\n            });\\n          };\\n          // Invoke immediately\\n          executeRecaptchaForQuote()\\n\\n          // Async variant so you can await this function from another async function (no need for\\n          // an explicit callback function then!)\\n          // Returns a Promise that resolves with the response token.\\n          async function executeRecaptchaForQuoteAsync() {\\n            return new Promise((resolve, reject) => {\\n              grecaptcha.ready(async function() {\\n                resolve(await grecaptcha.execute(\\'6Ldta8EUAAAAACp3yt76yG8QWMdQkpDBkP1bcHi6\\', {action: \\'quote\\'}))\\n              });\\n            })\\n          };\\n\\n                    var setInputWithRecaptchaResponseTokenForQuote = function(id, token) {\\n            var element = document.getElementById(id);\\n            element.value = token;\\n          }\\n\\n        </script>\\n<input type=\"hidden\" name=\"g-recaptcha-response-data[quote]\" id=\"g-recaptcha-response-data-quote\" data-sitekey=\"6Ldta8EUAAAAACp3yt76yG8QWMdQkpDBkP1bcHi6\" class=\"g-recaptcha g-recaptcha-response \"/>\\n\\n                                <div class=\"input-group-append\">\\n                                    <button type=\"submit\" class=\"btn btn-default\"><i class=\"ti-arrow-right text-small m-0\"></i></button>\\n                                </div>\\n                            </div>\\n</form>\\n\\n                    </div>\\n                </div>\\n            </div>\\n        </div>\\n    </section>\\n\\n\\n<section class=\"half-section bg-extra-dark-gray half-section\">\\n    <div class=\"container\">\\n\\n        <div class=\"row m-0\">\\n            <div class=\"col-12 d-flex flex-column justify-content-center text-center wow fadeIn\" data-wow-delay=\"0.2s\">\\n                <h5 class=\"text-white alt-font font-weight-400 letter-spacing-1 margin-10px-bottom\">INSPIRATIONAL QUOTES</h5>\\n                <span class=\"text-white-2 opacity8 alt-font mb-0 padding-20px-bottom\">Find the perfect quote... and Pass It On\\xc2\\xae</span>\\n\\n                <form class=\"search-box2 margin-30px-bottom\" action=\"/inspirational-quotes\" method=\"get\">\\n                    <div class=\"input-group add-on width-75 mx-auto sm-width-100\">\\n                        <input name=\"q\" type=\"text\" value=\\'\\' placeholder=\"Search our inspiring quotes...\" class=\"form-control\" />\\n                        <div class=\"input-group-append\">\\n                            <button type=\"submit\" class=\"btn btn-default\"><i class=\"ti-search text-small m-0\"></i></button>\\n                        </div>\\n                    </div>\\n                </form>\\n\\n            </div>\\n        </div>\\n\\n        <div class=\\'row\\' id=\\'all_quotes\\'>\\n            <div class=\"col-6 col-lg-3 text-center margin-30px-bottom sm-margin-30px-top\">\\n\\n        <a href=\"/inspirational-quotes/8156-the-most-essential-factor-is-persistence-the\"><img alt=\"The most essential factor is persistence\\xe2\\x80\\x94the determination never to allow your energy or enthusiasm to be dampened by discouragement. #&lt;Author:0x0000555d3a355218&gt;\" class=\"margin-10px-bottom shadow\" src=\"https://assets.passiton.com/quotes/quote_artwork/8156/medium/20201117_tuesday_quote.jpg?1605289355\" width=\"310\" height=\"310\" /></a>\\n        <h5 class=\\'value_on_red\\'><a href=\"/inspirational-quotes/8156-the-most-essential-factor-is-persistence-the\">PERSISTENCE</a></h5>\\n\\n</div><div class=\"col-6 col-lg-3 text-center margin-30px-bottom sm-margin-30px-top\">\\n\\n        <a href=\"/inspirational-quotes/7917-persistence-can-change-failure-into\"><img alt=\"Persistence can change failure into extraordinary achievement. #&lt;Author:0x0000555d3a370400&gt;\" class=\"margin-10px-bottom shadow\" src=\"https://assets.passiton.com/quotes/quote_artwork/7917/medium/20201116_monday_quote.jpg?1605289330\" width=\"310\" height=\"310\" /></a>\\n        <h5 class=\\'value_on_red\\'><a href=\"/inspirational-quotes/7917-persistence-can-change-failure-into\">PERSISTENCE</a></h5>\\n\\n</div><div class=\"col-6 col-lg-3 text-center margin-30px-bottom sm-margin-30px-top\">\\n\\n        <a href=\"/inspirational-quotes/8155-hope-sees-the-invisible-feels-the-intangible\"><img alt=\"Hope sees the invisible, feels the intangible, and achieves the impossible. #&lt;Author:0x0000555d3a392528&gt;\" class=\"margin-10px-bottom shadow\" src=\"https://assets.passiton.com/quotes/quote_artwork/8155/medium/20201113_friday_quote.jpg?1604688356\" width=\"310\" height=\"310\" /></a>\\n        <h5 class=\\'value_on_red\\'><a href=\"/inspirational-quotes/8155-hope-sees-the-invisible-feels-the-intangible\">HOPE</a></h5>\\n\\n</div><div class=\"col-6 col-lg-3 text-center margin-30px-bottom sm-margin-30px-top\">\\n\\n        <a href=\"/inspirational-quotes/4624-where-hope-grows-miracles-blossom\"><img alt=\"Where hope grows, miracles blossom. #&lt;Author:0x0000555d3a3aff38&gt;\" class=\"margin-10px-bottom shadow\" src=\"https://assets.passiton.com/quotes/quote_artwork/4624/medium/20201112_thursday_quote.jpg?1604688335\" width=\"310\" height=\"310\" /></a>\\n        <h5 class=\\'value_on_red\\'><a href=\"/inspirational-quotes/4624-where-hope-grows-miracles-blossom\">HOPE</a></h5>\\n\\n</div><div class=\"col-6 col-lg-3 text-center margin-30px-bottom sm-margin-30px-top\">\\n\\n        <a href=\"/inspirational-quotes/8154-this-new-day-is-too-dear-with-its-hopes-and\"><img alt=\"This new day is too dear, with its hopes and invitations, to waste a moment on the yesterdays. #&lt;Author:0x0000555d3a3c6170&gt;\" class=\"margin-10px-bottom shadow\" src=\"https://assets.passiton.com/quotes/quote_artwork/8154/medium/20201111_wednesday_quote.jpg?1604688314\" width=\"310\" height=\"310\" /></a>\\n        <h5 class=\\'value_on_red\\'><a href=\"/inspirational-quotes/8154-this-new-day-is-too-dear-with-its-hopes-and\">HOPE</a></h5>\\n\\n</div><div class=\"col-6 col-lg-3 text-center margin-30px-bottom sm-margin-30px-top\">\\n\\n        <a href=\"/inspirational-quotes/8018-our-human-compassion-binds-us-the-one-to-the\"><img alt=\"Our human compassion binds us the one to the other - not in pity or patronizingly, but as human beings who have learnt how to turn our common suffering into hope for the future. #&lt;Author:0x0000555d3a3f2fb8&gt;\" class=\"margin-10px-bottom shadow\" src=\"https://assets.passiton.com/quotes/quote_artwork/8018/medium/20201109_monday_quote.jpg?1604688266\" width=\"310\" height=\"310\" /></a>\\n        <h5 class=\\'value_on_red\\'><a href=\"/inspirational-quotes/8018-our-human-compassion-binds-us-the-one-to-the\">HOPE</a></h5>\\n\\n</div><div class=\"col-6 col-lg-3 text-center margin-30px-bottom sm-margin-30px-top\">\\n\\n        <a href=\"/inspirational-quotes/8153-hope-is-a-passion-for-the-possible\"><img alt=\"Hope is a passion for the possible.  #&lt;Author:0x0000555d3a408138&gt;\" class=\"margin-10px-bottom shadow\" src=\"https://assets.passiton.com/quotes/quote_artwork/8153/medium/20201110_tuesday_quote.jpg?1604688288\" width=\"310\" height=\"310\" /></a>\\n        <h5 class=\\'value_on_red\\'><a href=\"/inspirational-quotes/8153-hope-is-a-passion-for-the-possible\">HOPE</a></h5>\\n\\n</div><div class=\"col-6 col-lg-3 text-center margin-30px-bottom sm-margin-30px-top\">\\n\\n        <a href=\"/inspirational-quotes/8151-make-living-your-life-with-absolute-integrity\"><img alt=\"Make living your life with absolute integrity and kindness your first priority. #&lt;Author:0x0000555d3a42f558&gt;\" class=\"margin-10px-bottom shadow\" src=\"https://assets.passiton.com/quotes/quote_artwork/8151/medium/20201106_friday_quote.jpg?1604081299\" width=\"310\" height=\"310\" /></a>\\n        <h5 class=\\'value_on_red\\'><a href=\"/inspirational-quotes/8151-make-living-your-life-with-absolute-integrity\">CIVILITY</a></h5>\\n\\n</div><div class=\"col-6 col-lg-3 text-center margin-30px-bottom sm-margin-30px-top\">\\n\\n        <a href=\"/inspirational-quotes/7715-practice-civility-toward-one-another-admire\"><img alt=\"Practice civility toward one another. Admire and emulate ethical behavior wherever you find it. Apply a rigid standard of morality to your lives; and if, periodically, you fail as you surely will, \\xc2\\xadadjust your lives, not the standards.  #&lt;Author:0x0000555d3a467b10&gt;\" class=\"margin-10px-bottom shadow\" src=\"https://assets.passiton.com/quotes/quote_artwork/7715/medium/20201105_thursday_quote.jpg?1604081275\" width=\"310\" height=\"310\" /></a>\\n        <h5 class=\\'value_on_red\\'><a href=\"/inspirational-quotes/7715-practice-civility-toward-one-another-admire\">CIVILITY</a></h5>\\n\\n</div><div class=\"col-6 col-lg-3 text-center margin-30px-bottom sm-margin-30px-top\">\\n\\n        <a href=\"/inspirational-quotes/8152-dont-ever-forget-that-youre-a-citizen-of-this\"><img alt=\"Don&#39;t ever forget that you&#39;re a citizen of this world, and there are things you can do to lift the human spirit, things that are easy, things that are free, things that you can do every day: civility, respect, kindness, character. #&lt;Author:0x0000555d3a484940&gt;\" class=\"margin-10px-bottom shadow\" src=\"https://assets.passiton.com/quotes/quote_artwork/8152/medium/20201104_wednesday_quote.jpg?1604081252\" width=\"310\" height=\"310\" /></a>\\n        <h5 class=\\'value_on_red\\'><a href=\"/inspirational-quotes/8152-dont-ever-forget-that-youre-a-citizen-of-this\">CIVILITY</a></h5>\\n\\n</div><div class=\"col-6 col-lg-3 text-center margin-30px-bottom sm-margin-30px-top\">\\n\\n        <a href=\"/inspirational-quotes/7711-civility-is-the-art-and-act-of-caring-for-others\"><img alt=\"Civility is the art and act of caring for others. #&lt;Author:0x00007fe474734078&gt;\" class=\"margin-10px-bottom shadow\" src=\"https://assets.passiton.com/quotes/quote_artwork/7711/medium/20201103_tuesday_quote.jpg?1604081224\" width=\"310\" height=\"310\" /></a>\\n        <h5 class=\\'value_on_red\\'><a href=\"/inspirational-quotes/7711-civility-is-the-art-and-act-of-caring-for-others\">CIVILITY</a></h5>\\n\\n</div><div class=\"col-6 col-lg-3 text-center margin-30px-bottom sm-margin-30px-top\">\\n\\n        <a href=\"/inspirational-quotes/7712-genuine-tolerance-does-not-mean-ignoring\"><img alt=\"Genuine tolerance does not mean ignoring differences as if differences made no difference. Genuine tolerance means engaging differences within a bond of civility and respect. #&lt;Author:0x00007fe474779998&gt;\" class=\"margin-10px-bottom shadow\" src=\"https://assets.passiton.com/quotes/quote_artwork/7712/medium/20201102_monday_quote.jpg?1604081195\" width=\"310\" height=\"310\" /></a>\\n        <h5 class=\\'value_on_red\\'><a href=\"/inspirational-quotes/7712-genuine-tolerance-does-not-mean-ignoring\">CIVILITY</a></h5>\\n\\n</div><div class=\"col-6 col-lg-3 text-center margin-30px-bottom sm-margin-30px-top\">\\n\\n        <a href=\"/inspirational-quotes/3493-you-must-be-the-change-you-wish-to-see-in-the\"><img alt=\"You must be the change you wish to see in the world. #&lt;Author:0x00007fe4747b77e8&gt;\" class=\"margin-10px-bottom shadow\" src=\"https://assets.passiton.com/quotes/quote_artwork/3493/medium/20201030_friday_quote.jpg?1603383782\" width=\"310\" height=\"310\" /></a>\\n        <h5 class=\\'value_on_red\\'><a href=\"/inspirational-quotes/3493-you-must-be-the-change-you-wish-to-see-in-the\">MAKING A DIFFERENCE</a></h5>\\n\\n</div><div class=\"col-6 col-lg-3 text-center margin-30px-bottom sm-margin-30px-top\">\\n\\n        <a href=\"/inspirational-quotes/8150-but-where-was-i-to-start-the-world-is-so-vast\"><img alt=\"But where was I to start? The world is so vast, I shall start with the country I know best, my own. But my country is so very large. I had better start with my town. But my town too, is large. I had best start with my street. No: my home. No: my family. Never mind, I shall start with myself. #&lt;Author:0x00007fe4747ef580&gt;\" class=\"margin-10px-bottom shadow\" src=\"https://assets.passiton.com/quotes/quote_artwork/8150/medium/20201029_thursday_quote.jpg?1603383758\" width=\"310\" height=\"310\" /></a>\\n        <h5 class=\\'value_on_red\\'><a href=\"/inspirational-quotes/8150-but-where-was-i-to-start-the-world-is-so-vast\">MAKING A DIFFERENCE</a></h5>\\n\\n</div><div class=\"col-6 col-lg-3 text-center margin-30px-bottom sm-margin-30px-top\">\\n\\n        <a href=\"/inspirational-quotes/8149-each-one-of-us-can-make-a-difference-together\"><img alt=\"Each one of us can make a difference. Together we make a change. #&lt;Author:0x00007fe4748274a8&gt;\" class=\"margin-10px-bottom shadow\" src=\"https://assets.passiton.com/quotes/quote_artwork/8149/medium/20201026_monday_quote.jpg?1603383688\" width=\"310\" height=\"310\" /></a>\\n        <h5 class=\\'value_on_red\\'><a href=\"/inspirational-quotes/8149-each-one-of-us-can-make-a-difference-together\">MAKING A DIFFERENCE</a></h5>\\n\\n</div><div class=\"col-6 col-lg-3 text-center margin-30px-bottom sm-margin-30px-top\">\\n\\n        <a href=\"/inspirational-quotes/4128-in-this-life-we-cannot-always-do-great-things\"><img alt=\"In this life we cannot always do great things. But we can do small things with great love. #&lt;Author:0x00007fe474850510&gt;\" class=\"margin-10px-bottom shadow\" src=\"https://assets.passiton.com/quotes/quote_artwork/4128/medium/20201028_wednesday_quote.jpg?1603383733\" width=\"310\" height=\"310\" /></a>\\n        <h5 class=\\'value_on_red\\'><a href=\"/inspirational-quotes/4128-in-this-life-we-cannot-always-do-great-things\">MAKING A DIFFERENCE</a></h5>\\n\\n</div><div class=\"col-6 col-lg-3 text-center margin-30px-bottom sm-margin-30px-top\">\\n\\n        <a href=\"/inspirational-quotes/6826-we-do-not-need-magic-to-transform-our-world-we\"><img alt=\"We do not need magic to transform our world. We carry all the power we need inside ourselves already. We have the power to imagine better. #&lt;Author:0x00007fe474896380&gt;\" class=\"margin-10px-bottom shadow\" src=\"https://assets.passiton.com/quotes/quote_artwork/6826/medium/20201027_tuesday_quote.jpg?1603383711\" width=\"310\" height=\"310\" /></a>\\n        <h5 class=\\'value_on_red\\'><a href=\"/inspirational-quotes/6826-we-do-not-need-magic-to-transform-our-world-we\">MAKING A DIFFERENCE</a></h5>\\n\\n</div><div class=\"col-6 col-lg-3 text-center margin-30px-bottom sm-margin-30px-top\">\\n\\n        <a href=\"/inspirational-quotes/3752-the-only-place-success-comes-before-work-is-in\"><img alt=\"The only place success comes before work is in the dictionary. #&lt;Author:0x00007fe4748c5f90&gt;\" class=\"margin-10px-bottom shadow\" src=\"https://assets.passiton.com/quotes/quote_artwork/3752/medium/20201023_friday_quote_update.jpg?1602883670\" width=\"310\" height=\"310\" /></a>\\n        <h5 class=\\'value_on_red\\'><a href=\"/inspirational-quotes/3752-the-only-place-success-comes-before-work-is-in\">HARD WORK</a></h5>\\n\\n</div><div class=\"col-6 col-lg-3 text-center margin-30px-bottom sm-margin-30px-top\">\\n\\n        <a href=\"/inspirational-quotes/7750-a-dream-doesnt-become-reality-through-magic-it\"><img alt=\"A dream doesn&#39;t become reality through magic; it takes sweat, determination, and hard work. #&lt;Author:0x00007fe4748f0dd0&gt;\" class=\"margin-10px-bottom shadow\" src=\"https://assets.passiton.com/quotes/quote_artwork/7750/medium/20201022_thursday_quote_update.jpg?1602883540\" width=\"310\" height=\"310\" /></a>\\n        <h5 class=\\'value_on_red\\'><a href=\"/inspirational-quotes/7750-a-dream-doesnt-become-reality-through-magic-it\">HARD WORK</a></h5>\\n\\n</div><div class=\"col-6 col-lg-3 text-center margin-30px-bottom sm-margin-30px-top\">\\n\\n        <a href=\"/inspirational-quotes/8147-work-hard-at-work-worth-doing\"><img alt=\"Work hard at work worth doing.  #&lt;Author:0x00007fe474929810&gt;\" class=\"margin-10px-bottom shadow\" src=\"https://assets.passiton.com/quotes/quote_artwork/8147/medium/20201021_wednesday_quote.jpg?1602872491\" width=\"310\" height=\"310\" /></a>\\n        <h5 class=\\'value_on_red\\'><a href=\"/inspirational-quotes/8147-work-hard-at-work-worth-doing\">HARD WORK</a></h5>\\n\\n</div><div class=\"col-6 col-lg-3 text-center margin-30px-bottom sm-margin-30px-top\">\\n\\n        <a href=\"/inspirational-quotes/8146-the-only-limit-to-the-height-of-your\"><img alt=\"The only limit to the height of your achievements is the reach of your dreams and your willingness to work hard for them. #&lt;Author:0x00007fe474963dd0&gt;\" class=\"margin-10px-bottom shadow\" src=\"https://assets.passiton.com/quotes/quote_artwork/8146/medium/20201020_tuesday_quote.jpg?1602872463\" width=\"310\" height=\"310\" /></a>\\n        <h5 class=\\'value_on_red\\'><a href=\"/inspirational-quotes/8146-the-only-limit-to-the-height-of-your\">HARD WORK</a></h5>\\n\\n</div><div class=\"col-6 col-lg-3 text-center margin-30px-bottom sm-margin-30px-top\">\\n\\n        <a href=\"/inspirational-quotes/4704-work-hard-be-kind-and-amazing-things-will\"><img alt=\"Work hard, be kind, and amazing things will happen. #&lt;Author:0x00007fe47498e8c8&gt;\" class=\"margin-10px-bottom shadow\" src=\"https://assets.passiton.com/quotes/quote_artwork/4704/medium/20201019_monday_quote.jpg?1602872415\" width=\"310\" height=\"310\" /></a>\\n        <h5 class=\\'value_on_red\\'><a href=\"/inspirational-quotes/4704-work-hard-be-kind-and-amazing-things-will\">HARD WORK</a></h5>\\n\\n</div><div class=\"col-6 col-lg-3 text-center margin-30px-bottom sm-margin-30px-top\">\\n\\n        <a href=\"/inspirational-quotes/8145-if-you-see-someone-without-a-smile-give-them\"><img alt=\"If you see someone without a smile, give them one of yours. #&lt;Author:0x00007fe4749bc340&gt;\" class=\"margin-10px-bottom shadow\" src=\"https://assets.passiton.com/quotes/quote_artwork/8145/medium/20201016_friday_quote.jpg?1602195654\" width=\"310\" height=\"310\" /></a>\\n        <h5 class=\\'value_on_red\\'><a href=\"/inspirational-quotes/8145-if-you-see-someone-without-a-smile-give-them\">SMILE</a></h5>\\n\\n</div><div class=\"col-6 col-lg-3 text-center margin-30px-bottom sm-margin-30px-top\">\\n\\n        <a href=\"/inspirational-quotes/8144-a-simple-smile-that-s-the-start-of-opening\"><img alt=\"A simple smile. That\\xe2\\x80\\x99s the start of opening your heart and being compassionate to others. #&lt;Author:0x00007fe4749f70d0&gt;\" class=\"margin-10px-bottom shadow\" src=\"https://assets.passiton.com/quotes/quote_artwork/8144/medium/20201015_thursday_quote.jpg?1602195631\" width=\"310\" height=\"310\" /></a>\\n        <h5 class=\\'value_on_red\\'><a href=\"/inspirational-quotes/8144-a-simple-smile-that-s-the-start-of-opening\">SMILE</a></h5>\\n\\n</div><div class=\"col-6 col-lg-3 text-center margin-30px-bottom sm-margin-30px-top\">\\n\\n        <a href=\"/inspirational-quotes/6258-a-smile-is-a-curve-that-sets-everything-straight\"><img alt=\"A smile is a curve that sets everything straight.  #&lt;Author:0x00007fe474a2f160&gt;\" class=\"margin-10px-bottom shadow\" src=\"https://assets.passiton.com/quotes/quote_artwork/6258/medium/20201014_wednesday_quote.jpg?1602261766\" width=\"310\" height=\"310\" /></a>\\n        <h5 class=\\'value_on_red\\'><a href=\"/inspirational-quotes/6258-a-smile-is-a-curve-that-sets-everything-straight\">SMILE</a></h5>\\n\\n</div><div class=\"col-6 col-lg-3 text-center margin-30px-bottom sm-margin-30px-top\">\\n\\n        <a href=\"/inspirational-quotes/7529-let-us-always-meet-each-other-with-smile-for\"><img alt=\"Let us always meet each other with smile, for the smile is the beginning of love. #&lt;Author:0x00007fe474a59258&gt;\" class=\"margin-10px-bottom shadow\" src=\"https://assets.passiton.com/quotes/quote_artwork/7529/medium/20201013_tuesday_quote_alt.jpg?1602262692\" width=\"310\" height=\"310\" /></a>\\n        <h5 class=\\'value_on_red\\'><a href=\"/inspirational-quotes/7529-let-us-always-meet-each-other-with-smile-for\">SMILE</a></h5>\\n\\n</div><div class=\"col-6 col-lg-3 text-center margin-30px-bottom sm-margin-30px-top\">\\n\\n        <a href=\"/inspirational-quotes/7044-what-sunshine-is-to-flowers-smiles-are-to\"><img alt=\"What sunshine is to flowers, smiles are to humanity. #&lt;Author:0x00007fe474a89458&gt;\" class=\"margin-10px-bottom shadow\" src=\"https://assets.passiton.com/quotes/quote_artwork/7044/medium/20201012_monday_quote_alt.jpg?1602261408\" width=\"310\" height=\"310\" /></a>\\n        <h5 class=\\'value_on_red\\'><a href=\"/inspirational-quotes/7044-what-sunshine-is-to-flowers-smiles-are-to\">SMILE</a></h5>\\n\\n</div><div class=\"col-6 col-lg-3 text-center margin-30px-bottom sm-margin-30px-top\">\\n\\n        <a href=\"/inspirational-quotes/8143-anytime-we-can-listen-to-our-true-self-and-give\"><img alt=\"Anytime we can listen to our true self and give the care it requires, we do it not only for ourselves, but for the many others whose lives we touch.  #&lt;Author:0x00007fe474acebc0&gt;\" class=\"margin-10px-bottom shadow\" src=\"https://assets.passiton.com/quotes/quote_artwork/8143/medium/20201009_friday_quote_updated.jpg?1601662411\" width=\"310\" height=\"310\" /></a>\\n        <h5 class=\\'value_on_red\\'><a href=\"/inspirational-quotes/8143-anytime-we-can-listen-to-our-true-self-and-give\">SELF-CARE</a></h5>\\n\\n</div><div class=\"col-6 col-lg-3 text-center margin-30px-bottom sm-margin-30px-top\">\\n\\n        <a href=\"/inspirational-quotes/8142-when-you-recover-or-discover-something-that\"><img alt=\"When you recover or discover something that nourishes your soul and brings joy, care enough about yourself to make room for it in your life. #&lt;Author:0x00007fe474af88a8&gt;\" class=\"margin-10px-bottom shadow\" src=\"https://assets.passiton.com/quotes/quote_artwork/8142/medium/20201008_thursday_quote.jpg?1601592469\" width=\"310\" height=\"310\" /></a>\\n        <h5 class=\\'value_on_red\\'><a href=\"/inspirational-quotes/8142-when-you-recover-or-discover-something-that\">SELF-CARE</a></h5>\\n\\n</div><div class=\"col-6 col-lg-3 text-center margin-30px-bottom sm-margin-30px-top\">\\n\\n        <a href=\"/inspirational-quotes/8141-it-s-not-selfish-to-love-yourself-take-care-of\"><img alt=\"It\\xe2\\x80\\x99s not selfish to love yourself, take care of yourself, and to make your happiness a priority. It\\xe2\\x80\\x99s necessary. #&lt;Author:0x00007fe474b25010&gt;\" class=\"margin-10px-bottom shadow\" src=\"https://assets.passiton.com/quotes/quote_artwork/8141/medium/20201007_wednesday_quote.jpg?1601592441\" width=\"310\" height=\"310\" /></a>\\n        <h5 class=\\'value_on_red\\'><a href=\"/inspirational-quotes/8141-it-s-not-selfish-to-love-yourself-take-care-of\">SELF-CARE</a></h5>\\n\\n</div><div class=\"col-6 col-lg-3 text-center margin-30px-bottom sm-margin-30px-top\">\\n\\n        <a href=\"/inspirational-quotes/8140-when-you-take-care-of-yourself-you-re-a-better\"><img alt=\"When you take care of yourself, you\\xe2\\x80\\x99re a better person for others. When you feel good about yourself, you treat others better.  #&lt;Author:0x00007fe474b54900&gt;\" class=\"margin-10px-bottom shadow\" src=\"https://assets.passiton.com/quotes/quote_artwork/8140/medium/20201006_tuesday_quote.jpg?1601592416\" width=\"310\" height=\"310\" /></a>\\n        <h5 class=\\'value_on_red\\'><a href=\"/inspirational-quotes/8140-when-you-take-care-of-yourself-you-re-a-better\">SELF-CARE</a></h5>\\n\\n</div><div class=\"col-6 col-lg-3 text-center margin-30px-bottom sm-margin-30px-top\">\\n\\n        <a href=\"/inspirational-quotes/8139-self-care-is-a-deliberate-choice-to-gift\"><img alt=\"Self-care is a deliberate choice to gift yourself with people, places, things, events, and opportunities that recharge our personal battery and promote whole health \\xe2\\x80\\x94 body, mind, and spirit. #&lt;Author:0x00007fe474b8f9b0&gt;\" class=\"margin-10px-bottom shadow\" src=\"https://assets.passiton.com/quotes/quote_artwork/8139/medium/20201005_monday_quote.jpg?1601592383\" width=\"310\" height=\"310\" /></a>\\n        <h5 class=\\'value_on_red\\'><a href=\"/inspirational-quotes/8139-self-care-is-a-deliberate-choice-to-gift\">SELF-CARE</a></h5>\\n\\n</div>\\n        </div>\\n\\n        <div class=\"row\">\\n            <div class=\"col-12 text-center\">\\n                <div class=\"quotes_pagination\"><a class=\"previous_page\" rel=\"prev\" href=\"/inspirational-quotes?page=2\">&#8592; Previous</a> <a href=\"/inspirational-quotes?page=1\">1</a> <a rel=\"prev\" href=\"/inspirational-quotes?page=2\">2</a> <em class=\"current\">3</em> <a rel=\"next\" href=\"/inspirational-quotes?page=4\">4</a> <a href=\"/inspirational-quotes?page=5\">5</a> <a href=\"/inspirational-quotes?page=6\">6</a> <a href=\"/inspirational-quotes?page=7\">7</a> <a href=\"/inspirational-quotes?page=8\">8</a> <a href=\"/inspirational-quotes?page=9\">9</a> <span class=\"gap\">&hellip;</span> <a href=\"/inspirational-quotes?page=120\">120</a> <a href=\"/inspirational-quotes?page=121\">121</a> <a class=\"next_page\" rel=\"next\" href=\"/inspirational-quotes?page=4\">Next &#8594;</a></div>\\n            </div>\\n        </div>\\n\\n    </div>\\n</section>\\n        <footer class=\"footer-classic-dark bg-extra-dark-gray padding-five-bottom sm-padding-30px-bottom\">\\n  <div class=\"bg-dark-footer padding-50px-tb sm-padding-30px-tb\">\\n    <div class=\"container\">\\n      <div class=\"row align-items-center\">\\n\\n        <div class=\"col-lg-4 col-md-4 sm-text-center lg-text-left alt-font sm-margin-15px-bottom\">\\n          <a href=\"/\"><img style=\"max-width: 200px;\" data-rjs=\"/assets/site/passiton_fbl_logo-078fc8bdd27f7ef8c76cf23b391f16e3.png\" alt=\"PassItOn.com The Foundation for a Better Life\" src=\"/assets/site/passiton_fbl_logo-078fc8bdd27f7ef8c76cf23b391f16e3.png\" /></a>\\n        </div>\\n\\n        <div class=\"col-lg-4 col-md-4 text-center sm-margin-10px-bottom\">\\n        </div>\\n\\n        <div class=\"col-lg-4 col-md-4 text-center\">\\n          <span class=\"alt-font margin-20px-right\">Follow us on social</span>\\n          <div class=\"social-icon-style-8 d-inline-block vertical-align-middle\">\\n            <ul class=\"small-icon mb-0\">\\n              <li><a class=\"facebook text-white-2\" href=\"https://www.facebook.com/valuescom\" target=\"_blank\"><i class=\"fab fa-facebook-f\" aria-hidden=\"true\"></i></a></li>\\n              <li><a class=\"twitter text-white-2\" href=\"https://twitter.com/passiton_values\" target=\"_blank\"><i class=\"fab fa-twitter\"></i></a></li>\\n              <li><a class=\"instagram text-white-2\" href=\"https://www.instagram.com/passiton_values/\" target=\"_blank\"><i class=\"fab fa-instagram no-margin-right\" aria-hidden=\"true\"></i></a></li>\\n              <li><a class=\"pinterest text-white-2\" href=\"https://www.pinterest.com/passiton_values/\" target=\"_blank\"><i class=\"fab fa-pinterest no-margin-right\" aria-hidden=\"true\"></i></a></li>\\n              <li><a class=\"youtube text-white-2\" href=\"https://www.youtube.com/c/passiton_values\" target=\"_blank\"><i class=\"fab fa-youtube no-margin-right\" aria-hidden=\"true\"></i></a></li>\\n            </ul>\\n          </div>\\n        </div>\\n\\n      </div>\\n    </div>\\n  </div>\\n  <div class=\"footer-widget-area padding-five-top padding-30px-bottom sm-padding-30px-top\">\\n    <div class=\"container\">\\n      <div class=\"row\">\\n\\n        <div class=\"col-lg-3 col-md-6 widget border-right border-color-medium-dark-gray padding-45px-left md-padding-15px-left md-no-border-right md-margin-30px-bottom text-center text-md-left\">\\n          <div class=\"widget-title alt-font text-small text-medium-gray text-uppercase margin-10px-bottom font-weight-600\">About Us</div>\\n          <ul class=\"list-unstyled\">\\n            <li><a class=\"text-small\" href=\"/who-we-are\">About The Foundation for a Better Life</a></li>\\n            <li><a class=\"text-small\" href=\"/faqs\">FAQs</a></li>\\n            <li><a class=\"text-small\" href=\"/foundation-recognition\">Foundation Recognition</a></li>\\n            <li><a class=\"text-small\" href=\"/contact-us\">Contact Us</a></li>\\n          </ul>\\n        </div>\\n\\n        <div class=\"col-lg-3 col-md-6 widget border-right border-color-medium-dark-gray padding-45px-left md-padding-15px-left md-no-border-right md-margin-30px-bottom text-center text-md-left\">\\n          <div class=\"widget-title alt-font text-small text-medium-gray text-uppercase margin-10px-bottom font-weight-600\">Be Inspired</div>\\n          <ul class=\"list-unstyled\">\\n            <li><a class=\"text-small\" href=\"/teaching-values\">Teaching Values</a></li>\\n            <li><a class=\"text-small\" href=\"/inspirational-quotes\">Inspirational Quotations</a></li>\\n            <li><a class=\"text-small\" href=\"/inspirational-stories-tv-spots\">Pass It On\\xc2\\xae Videos</a></li>\\n            <li><a class=\"text-small\" href=\"/newspaper-stories\">Free Newspaper Stories</a></li>\\n            <li><a class=\"text-small\" href=\"/your-everyday-heroes\">Who&#39;s Your Hero Stories</a></li>\\n            <li><a class=\"text-small\" href=\"/inspirational-sayings-billboards\">Official Billboard Campaign</a></li>\\n            <li><a class=\"text-small\" href=\"/your-billboards\">Create Your Own Billboard</a></li>\\n            <li><a class=\"text-small\" href=\"/radio\">Radio Ads</a></li>\\n            <li><a class=\"text-small\" href=\"/passiton-blog\">Pass It On\\xc2\\xae Blog</a></li>\\n            <li><a class=\"text-small\" href=\"/inspirational-audio-stories\">Podcasts</a></li>\\n            <li><a class=\"text-small\" href=\"/pass-it-on-ecards\">Send an Ecard</a></li>\\n          </ul>\\n        </div>\\n\\n        <div class=\"col-lg-3 col-md-6 widget border-right border-color-medium-dark-gray padding-45px-left md-padding-15px-left md-no-border-right md-margin-30px-bottom text-center text-md-left\">\\n          <div class=\"widget-title alt-font text-small text-medium-gray text-uppercase margin-10px-bottom font-weight-600\">For Schools</div>\\n          <ul class=\"list-unstyled\">\\n            <li><a class=\"text-small\" href=\"/poster-requests/new\">Free Posters &amp; DVD for Schools</a></li>\\n            <li><a class=\"text-small\" href=\"/pass-it-on-downloads\">Downloads</a></li>\\n          </ul>\\n        </div>\\n\\n        <div class=\"col-lg-3 col-md-6 widget padding-45px-left md-padding-15px-left md-no-border-right md-margin-30px-bottom text-center text-md-left\">\\n          <div class=\"widget-title alt-font text-small text-medium-gray text-uppercase margin-10px-bottom font-weight-600\">For Media Companies</div>\\n          <ul class=\"list-unstyled\">\\n            <li><a class=\"text-small\" href=\"/for-media-companies\">For Media Companies</a></li>\\n            <li><a class=\"text-small\" href=\"https://www.passiton-media.com\">Broadcast Quality PSA Downloads</a></li>\\n            <li><a class=\"text-small\" href=\"https://www.passiton-media.com\">Pass It On Radio Ads</a></li>\\n            <li><a class=\"text-small\" href=\"https://www.passiton-media.com\">Live Reads</a></li>\\n            <li><a class=\"text-small\" href=\"https://www.passiton-media.com\">Out of Home Materials</a></li>\\n          </ul>\\n          <div class=\\'row sm-margin-30px-top\\'>\\n            <div class=\\'col-lg-4\\'>\\n              <a href=\"/\"><img style=\"max-width: 70px;\" src=\"/assets/site/values_logo-cd29ec5f2f086673ac42962263d07e02.png\" alt=\"Values logo\" /></a>\\n            </div>\\n            <div class=\\'col-lg-7\\'>\\n              <p class=\\'text-medium-gray text-small padding-10px-top\\'>VALUES.COM<small>\\xc2\\xae</small> is now PassItOn.com<small>\\xc2\\xae</small></p>\\n            </div>\\n          </div>\\n        </div>\\n\\n      </div>\\n    </div>\\n  </div>\\n  <div class=\"container\">\\n    <div class=\"footer-bottom border-top border-color-medium-dark-gray padding-30px-top\">\\n      <div class=\"row\">\\n        <div class=\"col-lg-6 col-md-6 text-small text-md-left text-center\">\\xc2\\xa92000-2021 The Foundation for a Better Life.</div>\\n        <div class=\"col-lg-6 col-md-6 text-small text-md-right text-center\"><a href=\"/privacy-policy\">Privacy Policy</a>&nbsp;&nbsp;&nbsp;|&nbsp;&nbsp;&nbsp;<a href=\"/terms-of-use\">Terms of Use</a></div>\\n      </div>\\n    </div>\\n  </div>\\n</footer>\\n        <a class=\"scroll-top-arrow\" href=\"javascript:void(0);\"><i class=\"ti-arrow-up\"></i></a>\\n        <script src=\"https://cdnjs.cloudflare.com/ajax/libs/jquery/1.12.4/jquery.js\"></script>\\n        <script src=\"https://cdnjs.cloudflare.com/ajax/libs/popper.js/1.14.7/umd/popper.min.js\" integrity=\"sha384-UO2eT0CpHqdSJQ6hJty5KVphtPhzWj9WO1clHTMGa3JDZwrnQq4sF86dIHNDz0W1\" crossorigin=\"anonymous\"></script>\\n        <script src=\"https://stackpath.bootstrapcdn.com/bootstrap/4.3.1/js/bootstrap.min.js\" integrity=\"sha384-JjSmVgyd0p3pXB1rRibZUAYoIIy6OrQ6VrjIEaFf/nJGzIxFDsf4x0xIM+B07jRM\" crossorigin=\"anonymous\"></script>\\n        <script src=\"/assets/pofo-3d0d89a27285d93c09e0f4c1fc85cead.js\"></script>\\n        \\n    </body>\\n</html>\\n'\n"
     ]
    }
   ],
   "source": [
    "print(r.content)"
   ]
  },
  {
   "cell_type": "code",
   "execution_count": 5,
   "metadata": {},
   "outputs": [],
   "source": [
    "#HTML PARSER\n",
    "soup = bs4.BeautifulSoup(r.content)"
   ]
  },
  {
   "cell_type": "code",
   "execution_count": 6,
   "metadata": {},
   "outputs": [
    {
     "data": {
      "text/plain": [
       "bs4.BeautifulSoup"
      ]
     },
     "execution_count": 6,
     "metadata": {},
     "output_type": "execute_result"
    }
   ],
   "source": [
    "type(soup)"
   ]
  },
  {
   "cell_type": "code",
   "execution_count": 7,
   "metadata": {},
   "outputs": [],
   "source": [
    "elements = soup.find(id = \"all_quotes\")"
   ]
  },
  {
   "cell_type": "code",
   "execution_count": 8,
   "metadata": {},
   "outputs": [
    {
     "name": "stdout",
     "output_type": "stream",
     "text": [
      "<div class=\"row\" id=\"all_quotes\">\n",
      "            <div class=\"col-6 col-lg-3 text-center margin-30px-bottom sm-margin-30px-top\">\n",
      "\n",
      "        <a href=\"/inspirational-quotes/8156-the-most-essential-factor-is-persistence-the\"><img alt=\"The most essential factor is persistence—the determination never to allow your energy or enthusiasm to be dampened by discouragement. #&lt;Author:0x0000555d3a355218&gt;\" class=\"margin-10px-bottom shadow\" height=\"310\" src=\"https://assets.passiton.com/quotes/quote_artwork/8156/medium/20201117_tuesday_quote.jpg?1605289355\" width=\"310\"/></a>\n",
      "        <h5 class=\"value_on_red\"><a href=\"/inspirational-quotes/8156-the-most-essential-factor-is-persistence-the\">PERSISTENCE</a></h5>\n",
      "\n",
      "</div><div class=\"col-6 col-lg-3 text-center margin-30px-bottom sm-margin-30px-top\">\n",
      "\n",
      "        <a href=\"/inspirational-quotes/7917-persistence-can-change-failure-into\"><img alt=\"Persistence can change failure into extraordinary achievement. #&lt;Author:0x0000555d3a370400&gt;\" class=\"margin-10px-bottom shadow\" height=\"310\" src=\"https://assets.passiton.com/quotes/quote_artwork/7917/medium/20201116_monday_quote.jpg?1605289330\" width=\"310\"/></a>\n",
      "        <h5 class=\"value_on_red\"><a href=\"/inspirational-quotes/7917-persistence-can-change-failure-into\">PERSISTENCE</a></h5>\n",
      "\n",
      "</div><div class=\"col-6 col-lg-3 text-center margin-30px-bottom sm-margin-30px-top\">\n",
      "\n",
      "        <a href=\"/inspirational-quotes/8155-hope-sees-the-invisible-feels-the-intangible\"><img alt=\"Hope sees the invisible, feels the intangible, and achieves the impossible. #&lt;Author:0x0000555d3a392528&gt;\" class=\"margin-10px-bottom shadow\" height=\"310\" src=\"https://assets.passiton.com/quotes/quote_artwork/8155/medium/20201113_friday_quote.jpg?1604688356\" width=\"310\"/></a>\n",
      "        <h5 class=\"value_on_red\"><a href=\"/inspirational-quotes/8155-hope-sees-the-invisible-feels-the-intangible\">HOPE</a></h5>\n",
      "\n",
      "</div><div class=\"col-6 col-lg-3 text-center margin-30px-bottom sm-margin-30px-top\">\n",
      "\n",
      "        <a href=\"/inspirational-quotes/4624-where-hope-grows-miracles-blossom\"><img alt=\"Where hope grows, miracles blossom. #&lt;Author:0x0000555d3a3aff38&gt;\" class=\"margin-10px-bottom shadow\" height=\"310\" src=\"https://assets.passiton.com/quotes/quote_artwork/4624/medium/20201112_thursday_quote.jpg?1604688335\" width=\"310\"/></a>\n",
      "        <h5 class=\"value_on_red\"><a href=\"/inspirational-quotes/4624-where-hope-grows-miracles-blossom\">HOPE</a></h5>\n",
      "\n",
      "</div><div class=\"col-6 col-lg-3 text-center margin-30px-bottom sm-margin-30px-top\">\n",
      "\n",
      "        <a href=\"/inspirational-quotes/8154-this-new-day-is-too-dear-with-its-hopes-and\"><img alt=\"This new day is too dear, with its hopes and invitations, to waste a moment on the yesterdays. #&lt;Author:0x0000555d3a3c6170&gt;\" class=\"margin-10px-bottom shadow\" height=\"310\" src=\"https://assets.passiton.com/quotes/quote_artwork/8154/medium/20201111_wednesday_quote.jpg?1604688314\" width=\"310\"/></a>\n",
      "        <h5 class=\"value_on_red\"><a href=\"/inspirational-quotes/8154-this-new-day-is-too-dear-with-its-hopes-and\">HOPE</a></h5>\n",
      "\n",
      "</div><div class=\"col-6 col-lg-3 text-center margin-30px-bottom sm-margin-30px-top\">\n",
      "\n",
      "        <a href=\"/inspirational-quotes/8018-our-human-compassion-binds-us-the-one-to-the\"><img alt=\"Our human compassion binds us the one to the other - not in pity or patronizingly, but as human beings who have learnt how to turn our common suffering into hope for the future. #&lt;Author:0x0000555d3a3f2fb8&gt;\" class=\"margin-10px-bottom shadow\" height=\"310\" src=\"https://assets.passiton.com/quotes/quote_artwork/8018/medium/20201109_monday_quote.jpg?1604688266\" width=\"310\"/></a>\n",
      "        <h5 class=\"value_on_red\"><a href=\"/inspirational-quotes/8018-our-human-compassion-binds-us-the-one-to-the\">HOPE</a></h5>\n",
      "\n",
      "</div><div class=\"col-6 col-lg-3 text-center margin-30px-bottom sm-margin-30px-top\">\n",
      "\n",
      "        <a href=\"/inspirational-quotes/8153-hope-is-a-passion-for-the-possible\"><img alt=\"Hope is a passion for the possible.  #&lt;Author:0x0000555d3a408138&gt;\" class=\"margin-10px-bottom shadow\" height=\"310\" src=\"https://assets.passiton.com/quotes/quote_artwork/8153/medium/20201110_tuesday_quote.jpg?1604688288\" width=\"310\"/></a>\n",
      "        <h5 class=\"value_on_red\"><a href=\"/inspirational-quotes/8153-hope-is-a-passion-for-the-possible\">HOPE</a></h5>\n",
      "\n",
      "</div><div class=\"col-6 col-lg-3 text-center margin-30px-bottom sm-margin-30px-top\">\n",
      "\n",
      "        <a href=\"/inspirational-quotes/8151-make-living-your-life-with-absolute-integrity\"><img alt=\"Make living your life with absolute integrity and kindness your first priority. #&lt;Author:0x0000555d3a42f558&gt;\" class=\"margin-10px-bottom shadow\" height=\"310\" src=\"https://assets.passiton.com/quotes/quote_artwork/8151/medium/20201106_friday_quote.jpg?1604081299\" width=\"310\"/></a>\n",
      "        <h5 class=\"value_on_red\"><a href=\"/inspirational-quotes/8151-make-living-your-life-with-absolute-integrity\">CIVILITY</a></h5>\n",
      "\n",
      "</div><div class=\"col-6 col-lg-3 text-center margin-30px-bottom sm-margin-30px-top\">\n",
      "\n",
      "        <a href=\"/inspirational-quotes/7715-practice-civility-toward-one-another-admire\"><img alt=\"Practice civility toward one another. Admire and emulate ethical behavior wherever you find it. Apply a rigid standard of morality to your lives; and if, periodically, you fail as you surely will, ­adjust your lives, not the standards.  #&lt;Author:0x0000555d3a467b10&gt;\" class=\"margin-10px-bottom shadow\" height=\"310\" src=\"https://assets.passiton.com/quotes/quote_artwork/7715/medium/20201105_thursday_quote.jpg?1604081275\" width=\"310\"/></a>\n",
      "        <h5 class=\"value_on_red\"><a href=\"/inspirational-quotes/7715-practice-civility-toward-one-another-admire\">CIVILITY</a></h5>\n",
      "\n",
      "</div><div class=\"col-6 col-lg-3 text-center margin-30px-bottom sm-margin-30px-top\">\n",
      "\n",
      "        <a href=\"/inspirational-quotes/8152-dont-ever-forget-that-youre-a-citizen-of-this\"><img alt=\"Don't ever forget that you're a citizen of this world, and there are things you can do to lift the human spirit, things that are easy, things that are free, things that you can do every day: civility, respect, kindness, character. #&lt;Author:0x0000555d3a484940&gt;\" class=\"margin-10px-bottom shadow\" height=\"310\" src=\"https://assets.passiton.com/quotes/quote_artwork/8152/medium/20201104_wednesday_quote.jpg?1604081252\" width=\"310\"/></a>\n",
      "        <h5 class=\"value_on_red\"><a href=\"/inspirational-quotes/8152-dont-ever-forget-that-youre-a-citizen-of-this\">CIVILITY</a></h5>\n",
      "\n",
      "</div><div class=\"col-6 col-lg-3 text-center margin-30px-bottom sm-margin-30px-top\">\n",
      "\n",
      "        <a href=\"/inspirational-quotes/7711-civility-is-the-art-and-act-of-caring-for-others\"><img alt=\"Civility is the art and act of caring for others. #&lt;Author:0x00007fe474734078&gt;\" class=\"margin-10px-bottom shadow\" height=\"310\" src=\"https://assets.passiton.com/quotes/quote_artwork/7711/medium/20201103_tuesday_quote.jpg?1604081224\" width=\"310\"/></a>\n",
      "        <h5 class=\"value_on_red\"><a href=\"/inspirational-quotes/7711-civility-is-the-art-and-act-of-caring-for-others\">CIVILITY</a></h5>\n",
      "\n",
      "</div><div class=\"col-6 col-lg-3 text-center margin-30px-bottom sm-margin-30px-top\">\n",
      "\n",
      "        <a href=\"/inspirational-quotes/7712-genuine-tolerance-does-not-mean-ignoring\"><img alt=\"Genuine tolerance does not mean ignoring differences as if differences made no difference. Genuine tolerance means engaging differences within a bond of civility and respect. #&lt;Author:0x00007fe474779998&gt;\" class=\"margin-10px-bottom shadow\" height=\"310\" src=\"https://assets.passiton.com/quotes/quote_artwork/7712/medium/20201102_monday_quote.jpg?1604081195\" width=\"310\"/></a>\n",
      "        <h5 class=\"value_on_red\"><a href=\"/inspirational-quotes/7712-genuine-tolerance-does-not-mean-ignoring\">CIVILITY</a></h5>\n",
      "\n",
      "</div><div class=\"col-6 col-lg-3 text-center margin-30px-bottom sm-margin-30px-top\">\n",
      "\n",
      "        <a href=\"/inspirational-quotes/3493-you-must-be-the-change-you-wish-to-see-in-the\"><img alt=\"You must be the change you wish to see in the world. #&lt;Author:0x00007fe4747b77e8&gt;\" class=\"margin-10px-bottom shadow\" height=\"310\" src=\"https://assets.passiton.com/quotes/quote_artwork/3493/medium/20201030_friday_quote.jpg?1603383782\" width=\"310\"/></a>\n",
      "        <h5 class=\"value_on_red\"><a href=\"/inspirational-quotes/3493-you-must-be-the-change-you-wish-to-see-in-the\">MAKING A DIFFERENCE</a></h5>\n",
      "\n",
      "</div><div class=\"col-6 col-lg-3 text-center margin-30px-bottom sm-margin-30px-top\">\n",
      "\n",
      "        <a href=\"/inspirational-quotes/8150-but-where-was-i-to-start-the-world-is-so-vast\"><img alt=\"But where was I to start? The world is so vast, I shall start with the country I know best, my own. But my country is so very large. I had better start with my town. But my town too, is large. I had best start with my street. No: my home. No: my family. Never mind, I shall start with myself. #&lt;Author:0x00007fe4747ef580&gt;\" class=\"margin-10px-bottom shadow\" height=\"310\" src=\"https://assets.passiton.com/quotes/quote_artwork/8150/medium/20201029_thursday_quote.jpg?1603383758\" width=\"310\"/></a>\n",
      "        <h5 class=\"value_on_red\"><a href=\"/inspirational-quotes/8150-but-where-was-i-to-start-the-world-is-so-vast\">MAKING A DIFFERENCE</a></h5>\n",
      "\n",
      "</div><div class=\"col-6 col-lg-3 text-center margin-30px-bottom sm-margin-30px-top\">\n",
      "\n",
      "        <a href=\"/inspirational-quotes/8149-each-one-of-us-can-make-a-difference-together\"><img alt=\"Each one of us can make a difference. Together we make a change. #&lt;Author:0x00007fe4748274a8&gt;\" class=\"margin-10px-bottom shadow\" height=\"310\" src=\"https://assets.passiton.com/quotes/quote_artwork/8149/medium/20201026_monday_quote.jpg?1603383688\" width=\"310\"/></a>\n",
      "        <h5 class=\"value_on_red\"><a href=\"/inspirational-quotes/8149-each-one-of-us-can-make-a-difference-together\">MAKING A DIFFERENCE</a></h5>\n",
      "\n",
      "</div><div class=\"col-6 col-lg-3 text-center margin-30px-bottom sm-margin-30px-top\">\n",
      "\n",
      "        <a href=\"/inspirational-quotes/4128-in-this-life-we-cannot-always-do-great-things\"><img alt=\"In this life we cannot always do great things. But we can do small things with great love. #&lt;Author:0x00007fe474850510&gt;\" class=\"margin-10px-bottom shadow\" height=\"310\" src=\"https://assets.passiton.com/quotes/quote_artwork/4128/medium/20201028_wednesday_quote.jpg?1603383733\" width=\"310\"/></a>\n",
      "        <h5 class=\"value_on_red\"><a href=\"/inspirational-quotes/4128-in-this-life-we-cannot-always-do-great-things\">MAKING A DIFFERENCE</a></h5>\n",
      "\n",
      "</div><div class=\"col-6 col-lg-3 text-center margin-30px-bottom sm-margin-30px-top\">\n",
      "\n",
      "        <a href=\"/inspirational-quotes/6826-we-do-not-need-magic-to-transform-our-world-we\"><img alt=\"We do not need magic to transform our world. We carry all the power we need inside ourselves already. We have the power to imagine better. #&lt;Author:0x00007fe474896380&gt;\" class=\"margin-10px-bottom shadow\" height=\"310\" src=\"https://assets.passiton.com/quotes/quote_artwork/6826/medium/20201027_tuesday_quote.jpg?1603383711\" width=\"310\"/></a>\n",
      "        <h5 class=\"value_on_red\"><a href=\"/inspirational-quotes/6826-we-do-not-need-magic-to-transform-our-world-we\">MAKING A DIFFERENCE</a></h5>\n",
      "\n",
      "</div><div class=\"col-6 col-lg-3 text-center margin-30px-bottom sm-margin-30px-top\">\n",
      "\n",
      "        <a href=\"/inspirational-quotes/3752-the-only-place-success-comes-before-work-is-in\"><img alt=\"The only place success comes before work is in the dictionary. #&lt;Author:0x00007fe4748c5f90&gt;\" class=\"margin-10px-bottom shadow\" height=\"310\" src=\"https://assets.passiton.com/quotes/quote_artwork/3752/medium/20201023_friday_quote_update.jpg?1602883670\" width=\"310\"/></a>\n",
      "        <h5 class=\"value_on_red\"><a href=\"/inspirational-quotes/3752-the-only-place-success-comes-before-work-is-in\">HARD WORK</a></h5>\n",
      "\n",
      "</div><div class=\"col-6 col-lg-3 text-center margin-30px-bottom sm-margin-30px-top\">\n",
      "\n",
      "        <a href=\"/inspirational-quotes/7750-a-dream-doesnt-become-reality-through-magic-it\"><img alt=\"A dream doesn't become reality through magic; it takes sweat, determination, and hard work. #&lt;Author:0x00007fe4748f0dd0&gt;\" class=\"margin-10px-bottom shadow\" height=\"310\" src=\"https://assets.passiton.com/quotes/quote_artwork/7750/medium/20201022_thursday_quote_update.jpg?1602883540\" width=\"310\"/></a>\n",
      "        <h5 class=\"value_on_red\"><a href=\"/inspirational-quotes/7750-a-dream-doesnt-become-reality-through-magic-it\">HARD WORK</a></h5>\n",
      "\n",
      "</div><div class=\"col-6 col-lg-3 text-center margin-30px-bottom sm-margin-30px-top\">\n",
      "\n",
      "        <a href=\"/inspirational-quotes/8147-work-hard-at-work-worth-doing\"><img alt=\"Work hard at work worth doing.  #&lt;Author:0x00007fe474929810&gt;\" class=\"margin-10px-bottom shadow\" height=\"310\" src=\"https://assets.passiton.com/quotes/quote_artwork/8147/medium/20201021_wednesday_quote.jpg?1602872491\" width=\"310\"/></a>\n",
      "        <h5 class=\"value_on_red\"><a href=\"/inspirational-quotes/8147-work-hard-at-work-worth-doing\">HARD WORK</a></h5>\n",
      "\n",
      "</div><div class=\"col-6 col-lg-3 text-center margin-30px-bottom sm-margin-30px-top\">\n",
      "\n",
      "        <a href=\"/inspirational-quotes/8146-the-only-limit-to-the-height-of-your\"><img alt=\"The only limit to the height of your achievements is the reach of your dreams and your willingness to work hard for them. #&lt;Author:0x00007fe474963dd0&gt;\" class=\"margin-10px-bottom shadow\" height=\"310\" src=\"https://assets.passiton.com/quotes/quote_artwork/8146/medium/20201020_tuesday_quote.jpg?1602872463\" width=\"310\"/></a>\n",
      "        <h5 class=\"value_on_red\"><a href=\"/inspirational-quotes/8146-the-only-limit-to-the-height-of-your\">HARD WORK</a></h5>\n",
      "\n",
      "</div><div class=\"col-6 col-lg-3 text-center margin-30px-bottom sm-margin-30px-top\">\n",
      "\n",
      "        <a href=\"/inspirational-quotes/4704-work-hard-be-kind-and-amazing-things-will\"><img alt=\"Work hard, be kind, and amazing things will happen. #&lt;Author:0x00007fe47498e8c8&gt;\" class=\"margin-10px-bottom shadow\" height=\"310\" src=\"https://assets.passiton.com/quotes/quote_artwork/4704/medium/20201019_monday_quote.jpg?1602872415\" width=\"310\"/></a>\n",
      "        <h5 class=\"value_on_red\"><a href=\"/inspirational-quotes/4704-work-hard-be-kind-and-amazing-things-will\">HARD WORK</a></h5>\n",
      "\n",
      "</div><div class=\"col-6 col-lg-3 text-center margin-30px-bottom sm-margin-30px-top\">\n",
      "\n",
      "        <a href=\"/inspirational-quotes/8145-if-you-see-someone-without-a-smile-give-them\"><img alt=\"If you see someone without a smile, give them one of yours. #&lt;Author:0x00007fe4749bc340&gt;\" class=\"margin-10px-bottom shadow\" height=\"310\" src=\"https://assets.passiton.com/quotes/quote_artwork/8145/medium/20201016_friday_quote.jpg?1602195654\" width=\"310\"/></a>\n",
      "        <h5 class=\"value_on_red\"><a href=\"/inspirational-quotes/8145-if-you-see-someone-without-a-smile-give-them\">SMILE</a></h5>\n",
      "\n",
      "</div><div class=\"col-6 col-lg-3 text-center margin-30px-bottom sm-margin-30px-top\">\n",
      "\n",
      "        <a href=\"/inspirational-quotes/8144-a-simple-smile-that-s-the-start-of-opening\"><img alt=\"A simple smile. That’s the start of opening your heart and being compassionate to others. #&lt;Author:0x00007fe4749f70d0&gt;\" class=\"margin-10px-bottom shadow\" height=\"310\" src=\"https://assets.passiton.com/quotes/quote_artwork/8144/medium/20201015_thursday_quote.jpg?1602195631\" width=\"310\"/></a>\n",
      "        <h5 class=\"value_on_red\"><a href=\"/inspirational-quotes/8144-a-simple-smile-that-s-the-start-of-opening\">SMILE</a></h5>\n",
      "\n",
      "</div><div class=\"col-6 col-lg-3 text-center margin-30px-bottom sm-margin-30px-top\">\n",
      "\n",
      "        <a href=\"/inspirational-quotes/6258-a-smile-is-a-curve-that-sets-everything-straight\"><img alt=\"A smile is a curve that sets everything straight.  #&lt;Author:0x00007fe474a2f160&gt;\" class=\"margin-10px-bottom shadow\" height=\"310\" src=\"https://assets.passiton.com/quotes/quote_artwork/6258/medium/20201014_wednesday_quote.jpg?1602261766\" width=\"310\"/></a>\n",
      "        <h5 class=\"value_on_red\"><a href=\"/inspirational-quotes/6258-a-smile-is-a-curve-that-sets-everything-straight\">SMILE</a></h5>\n",
      "\n",
      "</div><div class=\"col-6 col-lg-3 text-center margin-30px-bottom sm-margin-30px-top\">\n",
      "\n",
      "        <a href=\"/inspirational-quotes/7529-let-us-always-meet-each-other-with-smile-for\"><img alt=\"Let us always meet each other with smile, for the smile is the beginning of love. #&lt;Author:0x00007fe474a59258&gt;\" class=\"margin-10px-bottom shadow\" height=\"310\" src=\"https://assets.passiton.com/quotes/quote_artwork/7529/medium/20201013_tuesday_quote_alt.jpg?1602262692\" width=\"310\"/></a>\n",
      "        <h5 class=\"value_on_red\"><a href=\"/inspirational-quotes/7529-let-us-always-meet-each-other-with-smile-for\">SMILE</a></h5>\n",
      "\n",
      "</div><div class=\"col-6 col-lg-3 text-center margin-30px-bottom sm-margin-30px-top\">\n",
      "\n",
      "        <a href=\"/inspirational-quotes/7044-what-sunshine-is-to-flowers-smiles-are-to\"><img alt=\"What sunshine is to flowers, smiles are to humanity. #&lt;Author:0x00007fe474a89458&gt;\" class=\"margin-10px-bottom shadow\" height=\"310\" src=\"https://assets.passiton.com/quotes/quote_artwork/7044/medium/20201012_monday_quote_alt.jpg?1602261408\" width=\"310\"/></a>\n",
      "        <h5 class=\"value_on_red\"><a href=\"/inspirational-quotes/7044-what-sunshine-is-to-flowers-smiles-are-to\">SMILE</a></h5>\n",
      "\n",
      "</div><div class=\"col-6 col-lg-3 text-center margin-30px-bottom sm-margin-30px-top\">\n",
      "\n",
      "        <a href=\"/inspirational-quotes/8143-anytime-we-can-listen-to-our-true-self-and-give\"><img alt=\"Anytime we can listen to our true self and give the care it requires, we do it not only for ourselves, but for the many others whose lives we touch.  #&lt;Author:0x00007fe474acebc0&gt;\" class=\"margin-10px-bottom shadow\" height=\"310\" src=\"https://assets.passiton.com/quotes/quote_artwork/8143/medium/20201009_friday_quote_updated.jpg?1601662411\" width=\"310\"/></a>\n",
      "        <h5 class=\"value_on_red\"><a href=\"/inspirational-quotes/8143-anytime-we-can-listen-to-our-true-self-and-give\">SELF-CARE</a></h5>\n",
      "\n",
      "</div><div class=\"col-6 col-lg-3 text-center margin-30px-bottom sm-margin-30px-top\">\n",
      "\n",
      "        <a href=\"/inspirational-quotes/8142-when-you-recover-or-discover-something-that\"><img alt=\"When you recover or discover something that nourishes your soul and brings joy, care enough about yourself to make room for it in your life. #&lt;Author:0x00007fe474af88a8&gt;\" class=\"margin-10px-bottom shadow\" height=\"310\" src=\"https://assets.passiton.com/quotes/quote_artwork/8142/medium/20201008_thursday_quote.jpg?1601592469\" width=\"310\"/></a>\n",
      "        <h5 class=\"value_on_red\"><a href=\"/inspirational-quotes/8142-when-you-recover-or-discover-something-that\">SELF-CARE</a></h5>\n",
      "\n",
      "</div><div class=\"col-6 col-lg-3 text-center margin-30px-bottom sm-margin-30px-top\">\n",
      "\n",
      "        <a href=\"/inspirational-quotes/8141-it-s-not-selfish-to-love-yourself-take-care-of\"><img alt=\"It’s not selfish to love yourself, take care of yourself, and to make your happiness a priority. It’s necessary. #&lt;Author:0x00007fe474b25010&gt;\" class=\"margin-10px-bottom shadow\" height=\"310\" src=\"https://assets.passiton.com/quotes/quote_artwork/8141/medium/20201007_wednesday_quote.jpg?1601592441\" width=\"310\"/></a>\n",
      "        <h5 class=\"value_on_red\"><a href=\"/inspirational-quotes/8141-it-s-not-selfish-to-love-yourself-take-care-of\">SELF-CARE</a></h5>\n",
      "\n",
      "</div><div class=\"col-6 col-lg-3 text-center margin-30px-bottom sm-margin-30px-top\">\n",
      "\n",
      "        <a href=\"/inspirational-quotes/8140-when-you-take-care-of-yourself-you-re-a-better\"><img alt=\"When you take care of yourself, you’re a better person for others. When you feel good about yourself, you treat others better.  #&lt;Author:0x00007fe474b54900&gt;\" class=\"margin-10px-bottom shadow\" height=\"310\" src=\"https://assets.passiton.com/quotes/quote_artwork/8140/medium/20201006_tuesday_quote.jpg?1601592416\" width=\"310\"/></a>\n",
      "        <h5 class=\"value_on_red\"><a href=\"/inspirational-quotes/8140-when-you-take-care-of-yourself-you-re-a-better\">SELF-CARE</a></h5>\n",
      "\n",
      "</div><div class=\"col-6 col-lg-3 text-center margin-30px-bottom sm-margin-30px-top\">\n",
      "\n",
      "        <a href=\"/inspirational-quotes/8139-self-care-is-a-deliberate-choice-to-gift\"><img alt=\"Self-care is a deliberate choice to gift yourself with people, places, things, events, and opportunities that recharge our personal battery and promote whole health — body, mind, and spirit. #&lt;Author:0x00007fe474b8f9b0&gt;\" class=\"margin-10px-bottom shadow\" height=\"310\" src=\"https://assets.passiton.com/quotes/quote_artwork/8139/medium/20201005_monday_quote.jpg?1601592383\" width=\"310\"/></a>\n",
      "        <h5 class=\"value_on_red\"><a href=\"/inspirational-quotes/8139-self-care-is-a-deliberate-choice-to-gift\">SELF-CARE</a></h5>\n",
      "\n",
      "</div>\n",
      "        </div>\n"
     ]
    }
   ],
   "source": [
    "print(elements)"
   ]
  },
  {
   "cell_type": "code",
   "execution_count": 9,
   "metadata": {},
   "outputs": [
    {
     "name": "stdout",
     "output_type": "stream",
     "text": [
      "<class 'bs4.element.Tag'>\n"
     ]
    }
   ],
   "source": [
    "print(type(elements))"
   ]
  },
  {
   "cell_type": "code",
   "execution_count": 10,
   "metadata": {},
   "outputs": [],
   "source": [
    "each_element = elements.findAll('div')"
   ]
  },
  {
   "cell_type": "code",
   "execution_count": 11,
   "metadata": {},
   "outputs": [
    {
     "name": "stdout",
     "output_type": "stream",
     "text": [
      "[<div class=\"col-6 col-lg-3 text-center margin-30px-bottom sm-margin-30px-top\">\n",
      "\n",
      "        <a href=\"/inspirational-quotes/8156-the-most-essential-factor-is-persistence-the\"><img alt=\"The most essential factor is persistence—the determination never to allow your energy or enthusiasm to be dampened by discouragement. #&lt;Author:0x0000555d3a355218&gt;\" class=\"margin-10px-bottom shadow\" height=\"310\" src=\"https://assets.passiton.com/quotes/quote_artwork/8156/medium/20201117_tuesday_quote.jpg?1605289355\" width=\"310\"/></a>\n",
      "        <h5 class=\"value_on_red\"><a href=\"/inspirational-quotes/8156-the-most-essential-factor-is-persistence-the\">PERSISTENCE</a></h5>\n",
      "\n",
      "</div>, <div class=\"col-6 col-lg-3 text-center margin-30px-bottom sm-margin-30px-top\">\n",
      "\n",
      "        <a href=\"/inspirational-quotes/7917-persistence-can-change-failure-into\"><img alt=\"Persistence can change failure into extraordinary achievement. #&lt;Author:0x0000555d3a370400&gt;\" class=\"margin-10px-bottom shadow\" height=\"310\" src=\"https://assets.passiton.com/quotes/quote_artwork/7917/medium/20201116_monday_quote.jpg?1605289330\" width=\"310\"/></a>\n",
      "        <h5 class=\"value_on_red\"><a href=\"/inspirational-quotes/7917-persistence-can-change-failure-into\">PERSISTENCE</a></h5>\n",
      "\n",
      "</div>, <div class=\"col-6 col-lg-3 text-center margin-30px-bottom sm-margin-30px-top\">\n",
      "\n",
      "        <a href=\"/inspirational-quotes/8155-hope-sees-the-invisible-feels-the-intangible\"><img alt=\"Hope sees the invisible, feels the intangible, and achieves the impossible. #&lt;Author:0x0000555d3a392528&gt;\" class=\"margin-10px-bottom shadow\" height=\"310\" src=\"https://assets.passiton.com/quotes/quote_artwork/8155/medium/20201113_friday_quote.jpg?1604688356\" width=\"310\"/></a>\n",
      "        <h5 class=\"value_on_red\"><a href=\"/inspirational-quotes/8155-hope-sees-the-invisible-feels-the-intangible\">HOPE</a></h5>\n",
      "\n",
      "</div>, <div class=\"col-6 col-lg-3 text-center margin-30px-bottom sm-margin-30px-top\">\n",
      "\n",
      "        <a href=\"/inspirational-quotes/4624-where-hope-grows-miracles-blossom\"><img alt=\"Where hope grows, miracles blossom. #&lt;Author:0x0000555d3a3aff38&gt;\" class=\"margin-10px-bottom shadow\" height=\"310\" src=\"https://assets.passiton.com/quotes/quote_artwork/4624/medium/20201112_thursday_quote.jpg?1604688335\" width=\"310\"/></a>\n",
      "        <h5 class=\"value_on_red\"><a href=\"/inspirational-quotes/4624-where-hope-grows-miracles-blossom\">HOPE</a></h5>\n",
      "\n",
      "</div>, <div class=\"col-6 col-lg-3 text-center margin-30px-bottom sm-margin-30px-top\">\n",
      "\n",
      "        <a href=\"/inspirational-quotes/8154-this-new-day-is-too-dear-with-its-hopes-and\"><img alt=\"This new day is too dear, with its hopes and invitations, to waste a moment on the yesterdays. #&lt;Author:0x0000555d3a3c6170&gt;\" class=\"margin-10px-bottom shadow\" height=\"310\" src=\"https://assets.passiton.com/quotes/quote_artwork/8154/medium/20201111_wednesday_quote.jpg?1604688314\" width=\"310\"/></a>\n",
      "        <h5 class=\"value_on_red\"><a href=\"/inspirational-quotes/8154-this-new-day-is-too-dear-with-its-hopes-and\">HOPE</a></h5>\n",
      "\n",
      "</div>, <div class=\"col-6 col-lg-3 text-center margin-30px-bottom sm-margin-30px-top\">\n",
      "\n",
      "        <a href=\"/inspirational-quotes/8018-our-human-compassion-binds-us-the-one-to-the\"><img alt=\"Our human compassion binds us the one to the other - not in pity or patronizingly, but as human beings who have learnt how to turn our common suffering into hope for the future. #&lt;Author:0x0000555d3a3f2fb8&gt;\" class=\"margin-10px-bottom shadow\" height=\"310\" src=\"https://assets.passiton.com/quotes/quote_artwork/8018/medium/20201109_monday_quote.jpg?1604688266\" width=\"310\"/></a>\n",
      "        <h5 class=\"value_on_red\"><a href=\"/inspirational-quotes/8018-our-human-compassion-binds-us-the-one-to-the\">HOPE</a></h5>\n",
      "\n",
      "</div>, <div class=\"col-6 col-lg-3 text-center margin-30px-bottom sm-margin-30px-top\">\n",
      "\n",
      "        <a href=\"/inspirational-quotes/8153-hope-is-a-passion-for-the-possible\"><img alt=\"Hope is a passion for the possible.  #&lt;Author:0x0000555d3a408138&gt;\" class=\"margin-10px-bottom shadow\" height=\"310\" src=\"https://assets.passiton.com/quotes/quote_artwork/8153/medium/20201110_tuesday_quote.jpg?1604688288\" width=\"310\"/></a>\n",
      "        <h5 class=\"value_on_red\"><a href=\"/inspirational-quotes/8153-hope-is-a-passion-for-the-possible\">HOPE</a></h5>\n",
      "\n",
      "</div>, <div class=\"col-6 col-lg-3 text-center margin-30px-bottom sm-margin-30px-top\">\n",
      "\n",
      "        <a href=\"/inspirational-quotes/8151-make-living-your-life-with-absolute-integrity\"><img alt=\"Make living your life with absolute integrity and kindness your first priority. #&lt;Author:0x0000555d3a42f558&gt;\" class=\"margin-10px-bottom shadow\" height=\"310\" src=\"https://assets.passiton.com/quotes/quote_artwork/8151/medium/20201106_friday_quote.jpg?1604081299\" width=\"310\"/></a>\n",
      "        <h5 class=\"value_on_red\"><a href=\"/inspirational-quotes/8151-make-living-your-life-with-absolute-integrity\">CIVILITY</a></h5>\n",
      "\n",
      "</div>, <div class=\"col-6 col-lg-3 text-center margin-30px-bottom sm-margin-30px-top\">\n",
      "\n",
      "        <a href=\"/inspirational-quotes/7715-practice-civility-toward-one-another-admire\"><img alt=\"Practice civility toward one another. Admire and emulate ethical behavior wherever you find it. Apply a rigid standard of morality to your lives; and if, periodically, you fail as you surely will, ­adjust your lives, not the standards.  #&lt;Author:0x0000555d3a467b10&gt;\" class=\"margin-10px-bottom shadow\" height=\"310\" src=\"https://assets.passiton.com/quotes/quote_artwork/7715/medium/20201105_thursday_quote.jpg?1604081275\" width=\"310\"/></a>\n",
      "        <h5 class=\"value_on_red\"><a href=\"/inspirational-quotes/7715-practice-civility-toward-one-another-admire\">CIVILITY</a></h5>\n",
      "\n",
      "</div>, <div class=\"col-6 col-lg-3 text-center margin-30px-bottom sm-margin-30px-top\">\n",
      "\n",
      "        <a href=\"/inspirational-quotes/8152-dont-ever-forget-that-youre-a-citizen-of-this\"><img alt=\"Don't ever forget that you're a citizen of this world, and there are things you can do to lift the human spirit, things that are easy, things that are free, things that you can do every day: civility, respect, kindness, character. #&lt;Author:0x0000555d3a484940&gt;\" class=\"margin-10px-bottom shadow\" height=\"310\" src=\"https://assets.passiton.com/quotes/quote_artwork/8152/medium/20201104_wednesday_quote.jpg?1604081252\" width=\"310\"/></a>\n",
      "        <h5 class=\"value_on_red\"><a href=\"/inspirational-quotes/8152-dont-ever-forget-that-youre-a-citizen-of-this\">CIVILITY</a></h5>\n",
      "\n",
      "</div>, <div class=\"col-6 col-lg-3 text-center margin-30px-bottom sm-margin-30px-top\">\n",
      "\n",
      "        <a href=\"/inspirational-quotes/7711-civility-is-the-art-and-act-of-caring-for-others\"><img alt=\"Civility is the art and act of caring for others. #&lt;Author:0x00007fe474734078&gt;\" class=\"margin-10px-bottom shadow\" height=\"310\" src=\"https://assets.passiton.com/quotes/quote_artwork/7711/medium/20201103_tuesday_quote.jpg?1604081224\" width=\"310\"/></a>\n",
      "        <h5 class=\"value_on_red\"><a href=\"/inspirational-quotes/7711-civility-is-the-art-and-act-of-caring-for-others\">CIVILITY</a></h5>\n",
      "\n",
      "</div>, <div class=\"col-6 col-lg-3 text-center margin-30px-bottom sm-margin-30px-top\">\n",
      "\n",
      "        <a href=\"/inspirational-quotes/7712-genuine-tolerance-does-not-mean-ignoring\"><img alt=\"Genuine tolerance does not mean ignoring differences as if differences made no difference. Genuine tolerance means engaging differences within a bond of civility and respect. #&lt;Author:0x00007fe474779998&gt;\" class=\"margin-10px-bottom shadow\" height=\"310\" src=\"https://assets.passiton.com/quotes/quote_artwork/7712/medium/20201102_monday_quote.jpg?1604081195\" width=\"310\"/></a>\n",
      "        <h5 class=\"value_on_red\"><a href=\"/inspirational-quotes/7712-genuine-tolerance-does-not-mean-ignoring\">CIVILITY</a></h5>\n",
      "\n",
      "</div>, <div class=\"col-6 col-lg-3 text-center margin-30px-bottom sm-margin-30px-top\">\n",
      "\n",
      "        <a href=\"/inspirational-quotes/3493-you-must-be-the-change-you-wish-to-see-in-the\"><img alt=\"You must be the change you wish to see in the world. #&lt;Author:0x00007fe4747b77e8&gt;\" class=\"margin-10px-bottom shadow\" height=\"310\" src=\"https://assets.passiton.com/quotes/quote_artwork/3493/medium/20201030_friday_quote.jpg?1603383782\" width=\"310\"/></a>\n",
      "        <h5 class=\"value_on_red\"><a href=\"/inspirational-quotes/3493-you-must-be-the-change-you-wish-to-see-in-the\">MAKING A DIFFERENCE</a></h5>\n",
      "\n",
      "</div>, <div class=\"col-6 col-lg-3 text-center margin-30px-bottom sm-margin-30px-top\">\n",
      "\n",
      "        <a href=\"/inspirational-quotes/8150-but-where-was-i-to-start-the-world-is-so-vast\"><img alt=\"But where was I to start? The world is so vast, I shall start with the country I know best, my own. But my country is so very large. I had better start with my town. But my town too, is large. I had best start with my street. No: my home. No: my family. Never mind, I shall start with myself. #&lt;Author:0x00007fe4747ef580&gt;\" class=\"margin-10px-bottom shadow\" height=\"310\" src=\"https://assets.passiton.com/quotes/quote_artwork/8150/medium/20201029_thursday_quote.jpg?1603383758\" width=\"310\"/></a>\n",
      "        <h5 class=\"value_on_red\"><a href=\"/inspirational-quotes/8150-but-where-was-i-to-start-the-world-is-so-vast\">MAKING A DIFFERENCE</a></h5>\n",
      "\n",
      "</div>, <div class=\"col-6 col-lg-3 text-center margin-30px-bottom sm-margin-30px-top\">\n",
      "\n",
      "        <a href=\"/inspirational-quotes/8149-each-one-of-us-can-make-a-difference-together\"><img alt=\"Each one of us can make a difference. Together we make a change. #&lt;Author:0x00007fe4748274a8&gt;\" class=\"margin-10px-bottom shadow\" height=\"310\" src=\"https://assets.passiton.com/quotes/quote_artwork/8149/medium/20201026_monday_quote.jpg?1603383688\" width=\"310\"/></a>\n",
      "        <h5 class=\"value_on_red\"><a href=\"/inspirational-quotes/8149-each-one-of-us-can-make-a-difference-together\">MAKING A DIFFERENCE</a></h5>\n",
      "\n",
      "</div>, <div class=\"col-6 col-lg-3 text-center margin-30px-bottom sm-margin-30px-top\">\n",
      "\n",
      "        <a href=\"/inspirational-quotes/4128-in-this-life-we-cannot-always-do-great-things\"><img alt=\"In this life we cannot always do great things. But we can do small things with great love. #&lt;Author:0x00007fe474850510&gt;\" class=\"margin-10px-bottom shadow\" height=\"310\" src=\"https://assets.passiton.com/quotes/quote_artwork/4128/medium/20201028_wednesday_quote.jpg?1603383733\" width=\"310\"/></a>\n",
      "        <h5 class=\"value_on_red\"><a href=\"/inspirational-quotes/4128-in-this-life-we-cannot-always-do-great-things\">MAKING A DIFFERENCE</a></h5>\n",
      "\n",
      "</div>, <div class=\"col-6 col-lg-3 text-center margin-30px-bottom sm-margin-30px-top\">\n",
      "\n",
      "        <a href=\"/inspirational-quotes/6826-we-do-not-need-magic-to-transform-our-world-we\"><img alt=\"We do not need magic to transform our world. We carry all the power we need inside ourselves already. We have the power to imagine better. #&lt;Author:0x00007fe474896380&gt;\" class=\"margin-10px-bottom shadow\" height=\"310\" src=\"https://assets.passiton.com/quotes/quote_artwork/6826/medium/20201027_tuesday_quote.jpg?1603383711\" width=\"310\"/></a>\n",
      "        <h5 class=\"value_on_red\"><a href=\"/inspirational-quotes/6826-we-do-not-need-magic-to-transform-our-world-we\">MAKING A DIFFERENCE</a></h5>\n",
      "\n",
      "</div>, <div class=\"col-6 col-lg-3 text-center margin-30px-bottom sm-margin-30px-top\">\n",
      "\n",
      "        <a href=\"/inspirational-quotes/3752-the-only-place-success-comes-before-work-is-in\"><img alt=\"The only place success comes before work is in the dictionary. #&lt;Author:0x00007fe4748c5f90&gt;\" class=\"margin-10px-bottom shadow\" height=\"310\" src=\"https://assets.passiton.com/quotes/quote_artwork/3752/medium/20201023_friday_quote_update.jpg?1602883670\" width=\"310\"/></a>\n",
      "        <h5 class=\"value_on_red\"><a href=\"/inspirational-quotes/3752-the-only-place-success-comes-before-work-is-in\">HARD WORK</a></h5>\n",
      "\n",
      "</div>, <div class=\"col-6 col-lg-3 text-center margin-30px-bottom sm-margin-30px-top\">\n",
      "\n",
      "        <a href=\"/inspirational-quotes/7750-a-dream-doesnt-become-reality-through-magic-it\"><img alt=\"A dream doesn't become reality through magic; it takes sweat, determination, and hard work. #&lt;Author:0x00007fe4748f0dd0&gt;\" class=\"margin-10px-bottom shadow\" height=\"310\" src=\"https://assets.passiton.com/quotes/quote_artwork/7750/medium/20201022_thursday_quote_update.jpg?1602883540\" width=\"310\"/></a>\n",
      "        <h5 class=\"value_on_red\"><a href=\"/inspirational-quotes/7750-a-dream-doesnt-become-reality-through-magic-it\">HARD WORK</a></h5>\n",
      "\n",
      "</div>, <div class=\"col-6 col-lg-3 text-center margin-30px-bottom sm-margin-30px-top\">\n",
      "\n",
      "        <a href=\"/inspirational-quotes/8147-work-hard-at-work-worth-doing\"><img alt=\"Work hard at work worth doing.  #&lt;Author:0x00007fe474929810&gt;\" class=\"margin-10px-bottom shadow\" height=\"310\" src=\"https://assets.passiton.com/quotes/quote_artwork/8147/medium/20201021_wednesday_quote.jpg?1602872491\" width=\"310\"/></a>\n",
      "        <h5 class=\"value_on_red\"><a href=\"/inspirational-quotes/8147-work-hard-at-work-worth-doing\">HARD WORK</a></h5>\n",
      "\n",
      "</div>, <div class=\"col-6 col-lg-3 text-center margin-30px-bottom sm-margin-30px-top\">\n",
      "\n",
      "        <a href=\"/inspirational-quotes/8146-the-only-limit-to-the-height-of-your\"><img alt=\"The only limit to the height of your achievements is the reach of your dreams and your willingness to work hard for them. #&lt;Author:0x00007fe474963dd0&gt;\" class=\"margin-10px-bottom shadow\" height=\"310\" src=\"https://assets.passiton.com/quotes/quote_artwork/8146/medium/20201020_tuesday_quote.jpg?1602872463\" width=\"310\"/></a>\n",
      "        <h5 class=\"value_on_red\"><a href=\"/inspirational-quotes/8146-the-only-limit-to-the-height-of-your\">HARD WORK</a></h5>\n",
      "\n",
      "</div>, <div class=\"col-6 col-lg-3 text-center margin-30px-bottom sm-margin-30px-top\">\n",
      "\n",
      "        <a href=\"/inspirational-quotes/4704-work-hard-be-kind-and-amazing-things-will\"><img alt=\"Work hard, be kind, and amazing things will happen. #&lt;Author:0x00007fe47498e8c8&gt;\" class=\"margin-10px-bottom shadow\" height=\"310\" src=\"https://assets.passiton.com/quotes/quote_artwork/4704/medium/20201019_monday_quote.jpg?1602872415\" width=\"310\"/></a>\n",
      "        <h5 class=\"value_on_red\"><a href=\"/inspirational-quotes/4704-work-hard-be-kind-and-amazing-things-will\">HARD WORK</a></h5>\n",
      "\n",
      "</div>, <div class=\"col-6 col-lg-3 text-center margin-30px-bottom sm-margin-30px-top\">\n",
      "\n",
      "        <a href=\"/inspirational-quotes/8145-if-you-see-someone-without-a-smile-give-them\"><img alt=\"If you see someone without a smile, give them one of yours. #&lt;Author:0x00007fe4749bc340&gt;\" class=\"margin-10px-bottom shadow\" height=\"310\" src=\"https://assets.passiton.com/quotes/quote_artwork/8145/medium/20201016_friday_quote.jpg?1602195654\" width=\"310\"/></a>\n",
      "        <h5 class=\"value_on_red\"><a href=\"/inspirational-quotes/8145-if-you-see-someone-without-a-smile-give-them\">SMILE</a></h5>\n",
      "\n",
      "</div>, <div class=\"col-6 col-lg-3 text-center margin-30px-bottom sm-margin-30px-top\">\n",
      "\n",
      "        <a href=\"/inspirational-quotes/8144-a-simple-smile-that-s-the-start-of-opening\"><img alt=\"A simple smile. That’s the start of opening your heart and being compassionate to others. #&lt;Author:0x00007fe4749f70d0&gt;\" class=\"margin-10px-bottom shadow\" height=\"310\" src=\"https://assets.passiton.com/quotes/quote_artwork/8144/medium/20201015_thursday_quote.jpg?1602195631\" width=\"310\"/></a>\n",
      "        <h5 class=\"value_on_red\"><a href=\"/inspirational-quotes/8144-a-simple-smile-that-s-the-start-of-opening\">SMILE</a></h5>\n",
      "\n",
      "</div>, <div class=\"col-6 col-lg-3 text-center margin-30px-bottom sm-margin-30px-top\">\n",
      "\n",
      "        <a href=\"/inspirational-quotes/6258-a-smile-is-a-curve-that-sets-everything-straight\"><img alt=\"A smile is a curve that sets everything straight.  #&lt;Author:0x00007fe474a2f160&gt;\" class=\"margin-10px-bottom shadow\" height=\"310\" src=\"https://assets.passiton.com/quotes/quote_artwork/6258/medium/20201014_wednesday_quote.jpg?1602261766\" width=\"310\"/></a>\n",
      "        <h5 class=\"value_on_red\"><a href=\"/inspirational-quotes/6258-a-smile-is-a-curve-that-sets-everything-straight\">SMILE</a></h5>\n",
      "\n",
      "</div>, <div class=\"col-6 col-lg-3 text-center margin-30px-bottom sm-margin-30px-top\">\n",
      "\n",
      "        <a href=\"/inspirational-quotes/7529-let-us-always-meet-each-other-with-smile-for\"><img alt=\"Let us always meet each other with smile, for the smile is the beginning of love. #&lt;Author:0x00007fe474a59258&gt;\" class=\"margin-10px-bottom shadow\" height=\"310\" src=\"https://assets.passiton.com/quotes/quote_artwork/7529/medium/20201013_tuesday_quote_alt.jpg?1602262692\" width=\"310\"/></a>\n",
      "        <h5 class=\"value_on_red\"><a href=\"/inspirational-quotes/7529-let-us-always-meet-each-other-with-smile-for\">SMILE</a></h5>\n",
      "\n",
      "</div>, <div class=\"col-6 col-lg-3 text-center margin-30px-bottom sm-margin-30px-top\">\n",
      "\n",
      "        <a href=\"/inspirational-quotes/7044-what-sunshine-is-to-flowers-smiles-are-to\"><img alt=\"What sunshine is to flowers, smiles are to humanity. #&lt;Author:0x00007fe474a89458&gt;\" class=\"margin-10px-bottom shadow\" height=\"310\" src=\"https://assets.passiton.com/quotes/quote_artwork/7044/medium/20201012_monday_quote_alt.jpg?1602261408\" width=\"310\"/></a>\n",
      "        <h5 class=\"value_on_red\"><a href=\"/inspirational-quotes/7044-what-sunshine-is-to-flowers-smiles-are-to\">SMILE</a></h5>\n",
      "\n",
      "</div>, <div class=\"col-6 col-lg-3 text-center margin-30px-bottom sm-margin-30px-top\">\n",
      "\n",
      "        <a href=\"/inspirational-quotes/8143-anytime-we-can-listen-to-our-true-self-and-give\"><img alt=\"Anytime we can listen to our true self and give the care it requires, we do it not only for ourselves, but for the many others whose lives we touch.  #&lt;Author:0x00007fe474acebc0&gt;\" class=\"margin-10px-bottom shadow\" height=\"310\" src=\"https://assets.passiton.com/quotes/quote_artwork/8143/medium/20201009_friday_quote_updated.jpg?1601662411\" width=\"310\"/></a>\n",
      "        <h5 class=\"value_on_red\"><a href=\"/inspirational-quotes/8143-anytime-we-can-listen-to-our-true-self-and-give\">SELF-CARE</a></h5>\n",
      "\n",
      "</div>, <div class=\"col-6 col-lg-3 text-center margin-30px-bottom sm-margin-30px-top\">\n",
      "\n",
      "        <a href=\"/inspirational-quotes/8142-when-you-recover-or-discover-something-that\"><img alt=\"When you recover or discover something that nourishes your soul and brings joy, care enough about yourself to make room for it in your life. #&lt;Author:0x00007fe474af88a8&gt;\" class=\"margin-10px-bottom shadow\" height=\"310\" src=\"https://assets.passiton.com/quotes/quote_artwork/8142/medium/20201008_thursday_quote.jpg?1601592469\" width=\"310\"/></a>\n",
      "        <h5 class=\"value_on_red\"><a href=\"/inspirational-quotes/8142-when-you-recover-or-discover-something-that\">SELF-CARE</a></h5>\n",
      "\n",
      "</div>, <div class=\"col-6 col-lg-3 text-center margin-30px-bottom sm-margin-30px-top\">\n",
      "\n",
      "        <a href=\"/inspirational-quotes/8141-it-s-not-selfish-to-love-yourself-take-care-of\"><img alt=\"It’s not selfish to love yourself, take care of yourself, and to make your happiness a priority. It’s necessary. #&lt;Author:0x00007fe474b25010&gt;\" class=\"margin-10px-bottom shadow\" height=\"310\" src=\"https://assets.passiton.com/quotes/quote_artwork/8141/medium/20201007_wednesday_quote.jpg?1601592441\" width=\"310\"/></a>\n",
      "        <h5 class=\"value_on_red\"><a href=\"/inspirational-quotes/8141-it-s-not-selfish-to-love-yourself-take-care-of\">SELF-CARE</a></h5>\n",
      "\n",
      "</div>, <div class=\"col-6 col-lg-3 text-center margin-30px-bottom sm-margin-30px-top\">\n",
      "\n",
      "        <a href=\"/inspirational-quotes/8140-when-you-take-care-of-yourself-you-re-a-better\"><img alt=\"When you take care of yourself, you’re a better person for others. When you feel good about yourself, you treat others better.  #&lt;Author:0x00007fe474b54900&gt;\" class=\"margin-10px-bottom shadow\" height=\"310\" src=\"https://assets.passiton.com/quotes/quote_artwork/8140/medium/20201006_tuesday_quote.jpg?1601592416\" width=\"310\"/></a>\n",
      "        <h5 class=\"value_on_red\"><a href=\"/inspirational-quotes/8140-when-you-take-care-of-yourself-you-re-a-better\">SELF-CARE</a></h5>\n",
      "\n",
      "</div>, <div class=\"col-6 col-lg-3 text-center margin-30px-bottom sm-margin-30px-top\">\n",
      "\n",
      "        <a href=\"/inspirational-quotes/8139-self-care-is-a-deliberate-choice-to-gift\"><img alt=\"Self-care is a deliberate choice to gift yourself with people, places, things, events, and opportunities that recharge our personal battery and promote whole health — body, mind, and spirit. #&lt;Author:0x00007fe474b8f9b0&gt;\" class=\"margin-10px-bottom shadow\" height=\"310\" src=\"https://assets.passiton.com/quotes/quote_artwork/8139/medium/20201005_monday_quote.jpg?1601592383\" width=\"310\"/></a>\n",
      "        <h5 class=\"value_on_red\"><a href=\"/inspirational-quotes/8139-self-care-is-a-deliberate-choice-to-gift\">SELF-CARE</a></h5>\n",
      "\n",
      "</div>]\n"
     ]
    }
   ],
   "source": [
    "print(each_element)"
   ]
  },
  {
   "cell_type": "code",
   "execution_count": 12,
   "metadata": {},
   "outputs": [
    {
     "data": {
      "text/plain": [
       "<div class=\"col-6 col-lg-3 text-center margin-30px-bottom sm-margin-30px-top\">\n",
       "\n",
       "        <a href=\"/inspirational-quotes/8156-the-most-essential-factor-is-persistence-the\"><img alt=\"The most essential factor is persistence—the determination never to allow your energy or enthusiasm to be dampened by discouragement. #&lt;Author:0x0000555d3a355218&gt;\" class=\"margin-10px-bottom shadow\" height=\"310\" src=\"https://assets.passiton.com/quotes/quote_artwork/8156/medium/20201117_tuesday_quote.jpg?1605289355\" width=\"310\"/></a>\n",
       "        <h5 class=\"value_on_red\"><a href=\"/inspirational-quotes/8156-the-most-essential-factor-is-persistence-the\">PERSISTENCE</a></h5>\n",
       "\n",
       "</div>"
      ]
     },
     "execution_count": 12,
     "metadata": {},
     "output_type": "execute_result"
    }
   ],
   "source": [
    "each_element[0]"
   ]
  },
  {
   "cell_type": "code",
   "execution_count": 13,
   "metadata": {},
   "outputs": [
    {
     "data": {
      "text/plain": [
       "<div class=\"col-6 col-lg-3 text-center margin-30px-bottom sm-margin-30px-top\">\n",
       "\n",
       "        <a href=\"/inspirational-quotes/8018-our-human-compassion-binds-us-the-one-to-the\"><img alt=\"Our human compassion binds us the one to the other - not in pity or patronizingly, but as human beings who have learnt how to turn our common suffering into hope for the future. #&lt;Author:0x0000555d3a3f2fb8&gt;\" class=\"margin-10px-bottom shadow\" height=\"310\" src=\"https://assets.passiton.com/quotes/quote_artwork/8018/medium/20201109_monday_quote.jpg?1604688266\" width=\"310\"/></a>\n",
       "        <h5 class=\"value_on_red\"><a href=\"/inspirational-quotes/8018-our-human-compassion-binds-us-the-one-to-the\">HOPE</a></h5>\n",
       "\n",
       "</div>"
      ]
     },
     "execution_count": 13,
     "metadata": {},
     "output_type": "execute_result"
    }
   ],
   "source": [
    "each_element[5]"
   ]
  },
  {
   "cell_type": "markdown",
   "metadata": {},
   "source": [
    "Now we need to extract the 'a' tag from the 'div' element."
   ]
  },
  {
   "cell_type": "code",
   "execution_count": 14,
   "metadata": {},
   "outputs": [],
   "source": [
    "item = each_element[0]"
   ]
  },
  {
   "cell_type": "markdown",
   "metadata": {},
   "source": [
    "### We need this 'a' tag of each element"
   ]
  },
  {
   "cell_type": "code",
   "execution_count": 15,
   "metadata": {},
   "outputs": [
    {
     "name": "stdout",
     "output_type": "stream",
     "text": [
      "<a href=\"/inspirational-quotes/8156-the-most-essential-factor-is-persistence-the\"><img alt=\"The most essential factor is persistence—the determination never to allow your energy or enthusiasm to be dampened by discouragement. #&lt;Author:0x0000555d3a355218&gt;\" class=\"margin-10px-bottom shadow\" height=\"310\" src=\"https://assets.passiton.com/quotes/quote_artwork/8156/medium/20201117_tuesday_quote.jpg?1605289355\" width=\"310\"/></a>\n"
     ]
    }
   ],
   "source": [
    "print(item.a)"
   ]
  },
  {
   "cell_type": "code",
   "execution_count": 16,
   "metadata": {},
   "outputs": [
    {
     "name": "stdout",
     "output_type": "stream",
     "text": [
      "<img alt=\"The most essential factor is persistence—the determination never to allow your energy or enthusiasm to be dampened by discouragement. #&lt;Author:0x0000555d3a355218&gt;\" class=\"margin-10px-bottom shadow\" height=\"310\" src=\"https://assets.passiton.com/quotes/quote_artwork/8156/medium/20201117_tuesday_quote.jpg?1605289355\" width=\"310\"/>\n"
     ]
    }
   ],
   "source": [
    "print(item.img)"
   ]
  },
  {
   "cell_type": "markdown",
   "metadata": {},
   "source": [
    "We need the source of the image to store the image."
   ]
  },
  {
   "cell_type": "code",
   "execution_count": 17,
   "metadata": {},
   "outputs": [
    {
     "data": {
      "text/plain": [
       "{'alt': 'The most essential factor is persistence—the determination never to allow your energy or enthusiasm to be dampened by discouragement. #<Author:0x0000555d3a355218>',\n",
       " 'class': ['margin-10px-bottom', 'shadow'],\n",
       " 'src': 'https://assets.passiton.com/quotes/quote_artwork/8156/medium/20201117_tuesday_quote.jpg?1605289355',\n",
       " 'width': '310',\n",
       " 'height': '310'}"
      ]
     },
     "execution_count": 17,
     "metadata": {},
     "output_type": "execute_result"
    }
   ],
   "source": [
    "item.img.attrs"
   ]
  },
  {
   "cell_type": "code",
   "execution_count": 18,
   "metadata": {},
   "outputs": [
    {
     "data": {
      "text/plain": [
       "'https://assets.passiton.com/quotes/quote_artwork/8156/medium/20201117_tuesday_quote.jpg?1605289355'"
      ]
     },
     "execution_count": 18,
     "metadata": {},
     "output_type": "execute_result"
    }
   ],
   "source": [
    "item.img.attrs['src']"
   ]
  },
  {
   "cell_type": "markdown",
   "metadata": {},
   "source": [
    "Now we have to write this image in a file as jpeg."
   ]
  },
  {
   "cell_type": "code",
   "execution_count": 19,
   "metadata": {},
   "outputs": [],
   "source": [
    "with open('img.jpeg','wb') as f:\n",
    "    img1_url = item.img.attrs['src']\n",
    "    res = requests.get(img1_url)\n",
    "    f.write(res.content)"
   ]
  },
  {
   "cell_type": "markdown",
   "metadata": {},
   "source": [
    "### Now, We do this to each image on the website and save it to our drive by creating an img file."
   ]
  },
  {
   "cell_type": "code",
   "execution_count": 21,
   "metadata": {},
   "outputs": [
    {
     "data": {
      "text/plain": [
       "<div class=\"col-6 col-lg-3 text-center margin-30px-bottom sm-margin-30px-top\">\n",
       "\n",
       "        <a href=\"/inspirational-quotes/8153-hope-is-a-passion-for-the-possible\"><img alt=\"Hope is a passion for the possible.  #&lt;Author:0x0000555d3a408138&gt;\" class=\"margin-10px-bottom shadow\" height=\"310\" src=\"https://assets.passiton.com/quotes/quote_artwork/8153/medium/20201110_tuesday_quote.jpg?1604688288\" width=\"310\"/></a>\n",
       "        <h5 class=\"value_on_red\"><a href=\"/inspirational-quotes/8153-hope-is-a-passion-for-the-possible\">HOPE</a></h5>\n",
       "\n",
       "</div>"
      ]
     },
     "execution_count": 21,
     "metadata": {},
     "output_type": "execute_result"
    }
   ],
   "source": [
    "each_element[6]"
   ]
  },
  {
   "cell_type": "code",
   "execution_count": 23,
   "metadata": {},
   "outputs": [],
   "source": [
    "for i,j in enumerate(each_element):\n",
    "    with open('Inspirational_img{}.jpeg'.format(i),'wb') as f:\n",
    "        img_url = j.img.attrs['src']\n",
    "        res = requests.get(img_url)\n",
    "        f.write(res.content)"
   ]
  },
  {
   "cell_type": "markdown",
   "metadata": {},
   "source": [
    "## All images of the website will be stored"
   ]
  }
 ],
 "metadata": {
  "kernelspec": {
   "display_name": "Python 3",
   "language": "python",
   "name": "python3"
  },
  "language_info": {
   "codemirror_mode": {
    "name": "ipython",
    "version": 3
   },
   "file_extension": ".py",
   "mimetype": "text/x-python",
   "name": "python",
   "nbconvert_exporter": "python",
   "pygments_lexer": "ipython3",
   "version": "3.8.3"
  }
 },
 "nbformat": 4,
 "nbformat_minor": 4
}
